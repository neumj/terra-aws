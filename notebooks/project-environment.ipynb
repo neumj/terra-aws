{
 "cells": [
  {
   "cell_type": "code",
   "execution_count": 24,
   "metadata": {},
   "outputs": [],
   "source": [
    "import time\n",
    "from terraaws.utilities import S3\n",
    "from terraaws.network import VPC\n",
    "from terraaws.compute import EC2\n",
    "from terraaws.database import RDS"
   ]
  },
  {
   "cell_type": "code",
   "execution_count": 2,
   "metadata": {},
   "outputs": [],
   "source": [
    "%load_ext autoreload\n",
    "%autoreload 2"
   ]
  },
  {
   "cell_type": "code",
   "execution_count": 3,
   "metadata": {},
   "outputs": [],
   "source": [
    "#project s3 bucket\n",
    "s3 = S3(profile_name = 'mjn')\n",
    "prj_bucket = s3.create_private_bucket('tripoli-env')"
   ]
  },
  {
   "cell_type": "code",
   "execution_count": 4,
   "metadata": {},
   "outputs": [],
   "source": [
    "#project vpc, security group, route table, 2 subnets for database, public subnet\n",
    "vpc = VPC(profile_name = 'mjn')\n",
    "prj_vpc, prj_sg, prj_rt = vpc.create_base_vpc('213.213.48.0/24', 'tripoli')\n",
    "subnets = vpc.create_subnet('213.213.48.32/27', 'us-west-2b', 'tripoli-dbsubnet-01')\n",
    "subnets = vpc.create_subnet('213.213.48.64/27', 'us-west-2c', 'tripoli-dbsubnet-02')\n",
    "subnets = vpc.create_subnet('213.213.48.96/27', 'us-west-2a', 'tripoli-publicsubnet', public = True)\n",
    "intgateway = vpc.create_internet_gateway('tripoli-ig')\n",
    "int_route = vpc.create_internet_route('0.0.0.0/0')"
   ]
  },
  {
   "cell_type": "code",
   "execution_count": 14,
   "metadata": {},
   "outputs": [],
   "source": [
    "#amazon linux ec2\n",
    "ec2 = EC2(profile_name = 'mjn')\n",
    "prj_ec2 = ec2.launch_amazon_linux2('tripoli-ec2', publicsubnet['Subnets'][0]['SubnetId'], \n",
    "                                   [prj_sg['SecurityGroups'][0]['GroupId']],\n",
    "                                  'tripoli_key')"
   ]
  },
  {
   "cell_type": "code",
   "execution_count": 28,
   "metadata": {},
   "outputs": [],
   "source": [
    "#database subnet group, amazon mysql rds\n",
    "rds = RDS(profile_name = 'mjn')\n",
    "dbsubnetgrp = rds.create_db_subnet_group('tripolidb', \n",
    "                                         [publicsubnet['Subnets'][1]['SubnetId'], publicsubnet['Subnets'][2]['SubnetId']])\n"
   ]
  },
  {
   "cell_type": "code",
   "execution_count": 35,
   "metadata": {},
   "outputs": [
    {
     "ename": "AttributeError",
     "evalue": "'RDS' object has no attribute 'client'",
     "output_type": "error",
     "traceback": [
      "\u001b[0;31m---------------------------------------------------------------------------\u001b[0m",
      "\u001b[0;31mAttributeError\u001b[0m                            Traceback (most recent call last)",
      "\u001b[0;32m<ipython-input-35-573a31a53314>\u001b[0m in \u001b[0;36m<module>\u001b[0;34m\u001b[0m\n\u001b[1;32m      1\u001b[0m prj_db = rds.launch_mysql_rds('tripoliwordpress', 'tripoliadmin', 'Tripoliwp2021!', \n\u001b[1;32m      2\u001b[0m                  \u001b[0mdbsubnetgrp\u001b[0m\u001b[0;34m[\u001b[0m\u001b[0;34m'DBSubnetGroups'\u001b[0m\u001b[0;34m]\u001b[0m\u001b[0;34m[\u001b[0m\u001b[0;36m0\u001b[0m\u001b[0;34m]\u001b[0m\u001b[0;34m[\u001b[0m\u001b[0;34m'DBSubnetGroupName'\u001b[0m\u001b[0;34m]\u001b[0m\u001b[0;34m,\u001b[0m\u001b[0;34m\u001b[0m\u001b[0;34m\u001b[0m\u001b[0m\n\u001b[0;32m----> 3\u001b[0;31m                  prj_sg['SecurityGroups'][0]['GroupId'])\n\u001b[0m",
      "\u001b[0;32m~/Documents/code/terra-aws/terraaws/database.py\u001b[0m in \u001b[0;36mlaunch_mysql_rds\u001b[0;34m(self, dbname, username, masterpwd, dbsubnetgrp, securitygroup)\u001b[0m\n\u001b[1;32m     90\u001b[0m \u001b[0;34m\u001b[0m\u001b[0m\n\u001b[1;32m     91\u001b[0m         \u001b[0;31m# describe\u001b[0m\u001b[0;34m\u001b[0m\u001b[0;34m\u001b[0m\u001b[0;34m\u001b[0m\u001b[0m\n\u001b[0;32m---> 92\u001b[0;31m         \u001b[0mdb\u001b[0m \u001b[0;34m=\u001b[0m \u001b[0mrds\u001b[0m\u001b[0;34m.\u001b[0m\u001b[0mclient\u001b[0m\u001b[0;34m.\u001b[0m\u001b[0mdescribe_db_instances\u001b[0m\u001b[0;34m(\u001b[0m\u001b[0mDBInstanceIdentifier\u001b[0m\u001b[0;34m=\u001b[0m\u001b[0mdb\u001b[0m\u001b[0;34m[\u001b[0m\u001b[0;34m'DBInstance'\u001b[0m\u001b[0;34m]\u001b[0m\u001b[0;34m[\u001b[0m\u001b[0;34m'DBInstanceIdentifier'\u001b[0m\u001b[0;34m]\u001b[0m\u001b[0;34m)\u001b[0m\u001b[0;34m\u001b[0m\u001b[0;34m\u001b[0m\u001b[0m\n\u001b[0m\u001b[1;32m     93\u001b[0m \u001b[0;34m\u001b[0m\u001b[0m\n\u001b[1;32m     94\u001b[0m         \u001b[0mself\u001b[0m\u001b[0;34m.\u001b[0m\u001b[0mdb_instances\u001b[0m\u001b[0;34m.\u001b[0m\u001b[0mupdate\u001b[0m\u001b[0;34m(\u001b[0m\u001b[0mdb\u001b[0m\u001b[0;34m)\u001b[0m\u001b[0;34m\u001b[0m\u001b[0;34m\u001b[0m\u001b[0m\n",
      "\u001b[0;32m/opt/anaconda3/envs/terra-aws/lib/python3.7/site-packages/botocore/client.py\u001b[0m in \u001b[0;36m__getattr__\u001b[0;34m(self, item)\u001b[0m\n\u001b[1;32m    614\u001b[0m         raise AttributeError(\n\u001b[1;32m    615\u001b[0m             \"'%s' object has no attribute '%s'\" % (\n\u001b[0;32m--> 616\u001b[0;31m                 self.__class__.__name__, item)\n\u001b[0m\u001b[1;32m    617\u001b[0m         )\n\u001b[1;32m    618\u001b[0m \u001b[0;34m\u001b[0m\u001b[0m\n",
      "\u001b[0;31mAttributeError\u001b[0m: 'RDS' object has no attribute 'client'"
     ]
    }
   ],
   "source": [
    "prj_db = rds.launch_mysql_rds('tripoliwordpress', 'tripoliadmin', 'Tripoliwp2021!', \n",
    "                 dbsubnetgrp['DBSubnetGroups'][0]['DBSubnetGroupName'], \n",
    "                 prj_sg['SecurityGroups'][0]['GroupId'])"
   ]
  },
  {
   "cell_type": "code",
   "execution_count": null,
   "metadata": {},
   "outputs": [],
   "source": [
    "#write configs\n",
    "put_status = s3.put_object(prj_bucket, 'tripoli-env', 'tripoli-s3-config-' + str(int(time.time())) + '.json')\n",
    "put_status = s3.put_object(prj_vpc, 'tripoli-env', 'tripoli-vpc-config-' + str(int(time.time())) + '.json')\n",
    "put_status = s3.put_object(prj_sg, 'tripoli-env', 'tripoli-sg-config-' + str(int(time.time())) + '.json')\n",
    "put_status = s3.put_object(publicsubnet, 'tripoli-env', 'tripoli-subnet-config-' + str(int(time.time())) + '.json')\n",
    "put_status = s3.put_object(intgateway, 'tripoli-env', 'tripoli-intgateway-config-' + str(int(time.time())) + '.json')\n",
    "put_status = s3.put_object(int_route, 'tripoli-env', 'tripoli-route-table-config-' + str(int(time.time())) + '.json')\n",
    "put_status = s3.put_object(prj_ec2, 'tripoli-env', 'tripoli-ec2-config-' + str(int(time.time())) + '.json')\n",
    "put_status = s3.put_object(dbsubnetgrp, 'tripoli-env', 'tripoli-dbsubnet-config-' + str(int(time.time())) + '.json')\n",
    "put_status = s3.put_object(prj_db, 'tripoli-env', 'tripoli-db-config-' + str(int(time.time())) + '.json')"
   ]
  }
 ],
 "metadata": {
  "kernelspec": {
   "display_name": "Python 3",
   "language": "python",
   "name": "python3"
  },
  "language_info": {
   "codemirror_mode": {
    "name": "ipython",
    "version": 3
   },
   "file_extension": ".py",
   "mimetype": "text/x-python",
   "name": "python",
   "nbconvert_exporter": "python",
   "pygments_lexer": "ipython3",
   "version": "3.7.9"
  }
 },
 "nbformat": 4,
 "nbformat_minor": 4
}
