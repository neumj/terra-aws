{
 "cells": [
  {
   "cell_type": "code",
   "execution_count": null,
   "metadata": {},
   "outputs": [],
   "source": [
    "import time\n",
    "from terraaws.utilities import S3\n",
    "from terraaws.network import VPC"
   ]
  },
  {
   "cell_type": "code",
   "execution_count": null,
   "metadata": {},
   "outputs": [],
   "source": [
    "%load_ext autoreload\n",
    "%autoreload 2"
   ]
  },
  {
   "cell_type": "code",
   "execution_count": null,
   "metadata": {},
   "outputs": [],
   "source": [
    "#project s3 bucket\n",
    "s3 = S3(profile_name = 'mjn')\n",
    "prj_bucket = s3.create_private_bucket('tripoli-env')"
   ]
  },
  {
   "cell_type": "code",
   "execution_count": 48,
   "metadata": {},
   "outputs": [],
   "source": [
    "#project vpc, security group, route table, 2 subnets for database, public subnet\n",
    "vpc = VPC(profile_name = 'mjn')\n",
    "prj_vpc, prj_sg, prj_rt = vpc.create_base_vpc('213.213.48.0/24', 'tripoli')\n",
    "dbsubnet01 = vpc.create_subnet('213.213.48.32/27', 'us-west-2b', 'tripoli-dbsubnet-01')\n",
    "dbsubnet02 = vpc.create_subnet('213.213.48.64/27', 'us-west-2c', 'tripoli-dbsubnet-02')\n",
    "publicsubnet = vpc.create_subnet('213.213.48.96/27', 'us-west-2a', 'tripoli-publicsubnet', public = True)\n",
    "intgateway = vpc.create_internet_gateway('tripoli-ig')\n",
    "int_route = vpc.create_internet_route('0.0.0.0/0')"
   ]
  },
  {
   "cell_type": "code",
   "execution_count": null,
   "metadata": {},
   "outputs": [],
   "source": [
    "#write configs\n",
    "put_status = s3.put_object(prj_bucket, 'tripoli-env', 'tripoli-s3-config-' + str(int(time.time())) + '.json')\n",
    "put_status = s3.put_object(prj_vpc, 'tripoli-env', 'tripoli-vpc-config-' + str(int(time.time())) + '.json')\n",
    "put_status = s3.put_object(prj_sg, 'tripoli-env', 'tripoli-sg-config-' + str(int(time.time())) + '.json')\n",
    "put_status = s3.put_object(publicsubnet, 'tripoli-env', 'tripoli-subnet-config-' + str(int(time.time())) + '.json')\n",
    "put_status = s3.put_object(intgateway, 'tripoli-env', 'tripoli-intgateway-config-' + str(int(time.time())) + '.json')\n",
    "put_status = s3.put_object(int_route, 'tripoli-env', 'tripoli-route-table-config-' + str(int(time.time())) + '.json')"
   ]
  }
 ],
 "metadata": {
  "kernelspec": {
   "display_name": "Python 3",
   "language": "python",
   "name": "python3"
  },
  "language_info": {
   "codemirror_mode": {
    "name": "ipython",
    "version": 3
   },
   "file_extension": ".py",
   "mimetype": "text/x-python",
   "name": "python",
   "nbconvert_exporter": "python",
   "pygments_lexer": "ipython3",
   "version": "3.7.9"
  }
 },
 "nbformat": 4,
 "nbformat_minor": 4
}
