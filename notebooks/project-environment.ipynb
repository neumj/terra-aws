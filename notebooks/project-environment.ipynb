{
 "cells": [
  {
   "cell_type": "code",
   "execution_count": 36,
   "metadata": {},
   "outputs": [],
   "source": [
    "import time\n",
    "from terraaws.utilities import S3\n",
    "from terraaws.utilities import Network\n",
    "from terraaws.network import VPC\n",
    "from terraaws.compute import EC2\n",
    "from terraaws.database import RDS"
   ]
  },
  {
   "cell_type": "code",
   "execution_count": 37,
   "metadata": {},
   "outputs": [
    {
     "name": "stdout",
     "output_type": "stream",
     "text": [
      "The autoreload extension is already loaded. To reload it, use:\n",
      "  %reload_ext autoreload\n"
     ]
    }
   ],
   "source": [
    "%load_ext autoreload\n",
    "%autoreload 2"
   ]
  },
  {
   "cell_type": "code",
   "execution_count": 38,
   "metadata": {},
   "outputs": [],
   "source": [
    "#project s3 bucket\n",
    "s3 = S3(profile_name = 'mjn')\n",
    "prj_bucket = s3.create_private_bucket('tripoli-env')"
   ]
  },
  {
   "cell_type": "code",
   "execution_count": 39,
   "metadata": {},
   "outputs": [],
   "source": [
    "#project vpc, security group, route table, 2 subnets for database, public subnet\n",
    "vpc = VPC(profile_name = 'mjn')\n",
    "prj_vpc, prj_sg, prj_rt = vpc.create_base_vpc('213.213.48.0/24', 'tripoli')\n",
    "subnets = vpc.create_subnet('213.213.48.32/27', 'us-west-2b', 'tripoli-dbsubnet-01')\n",
    "subnets = vpc.create_subnet('213.213.48.64/27', 'us-west-2c', 'tripoli-dbsubnet-02')\n",
    "subnets = vpc.create_subnet('213.213.48.96/27', 'us-west-2a', 'tripoli-publicsubnet', public = True)\n",
    "intgateway = vpc.create_internet_gateway('tripoli-ig')\n",
    "int_route = vpc.create_internet_route('0.0.0.0/0')\n",
    "publicsubnet_id = Network.get_subnet_id(subnets, 'tripoli-publicsubnet')\n",
    "securitygroup_id = Network.get_securitygroup_id(prj_sg, 'tripoli-base-securitygroup')"
   ]
  },
  {
   "cell_type": "code",
   "execution_count": 40,
   "metadata": {},
   "outputs": [],
   "source": [
    "#amazon linux ec2\n",
    "ec2 = EC2(profile_name = 'mjn')\n",
    "prj_ec2 = ec2.launch_amazon_linux2('tripoli-ec2', publicsubnet_id, [securitygroup_id], 'tripoli_key')"
   ]
  },
  {
   "cell_type": "code",
   "execution_count": 43,
   "metadata": {},
   "outputs": [],
   "source": [
    "#database subnet group, amazon mysql rds\n",
    "rds = RDS(profile_name = 'mjn')\n",
    "subnet_ids_db = [Network.get_subnet_id(subnets, 'tripoli-dbsubnet-01'), \n",
    "                 Network.get_subnet_id(subnets, 'tripoli-dbsubnet-02')]\n",
    "dbsubnetgrp = rds.create_db_subnet_group('tripolidb', subnet_ids_db)\n",
    "prj_db = rds.launch_mysql_rds('*****',\n",
    "                              '*****',\n",
    "                              '*****',\n",
    "                              'tripolidb-subnetgroup',\n",
    "                              securitygroup_id)"
   ]
  },
  {
   "cell_type": "code",
   "execution_count": null,
   "metadata": {},
   "outputs": [],
   "source": [
    "#write configs\n",
    "put_status = s3.put_object(prj_bucket, 'tripoli-env', 'tripoli-s3-config-' + str(int(time.time())) + '.json')\n",
    "put_status = s3.put_object(prj_vpc, 'tripoli-env', 'tripoli-vpc-config-' + str(int(time.time())) + '.json')\n",
    "put_status = s3.put_object(prj_sg, 'tripoli-env', 'tripoli-sg-config-' + str(int(time.time())) + '.json')\n",
    "put_status = s3.put_object(subnets, 'tripoli-env', 'tripoli-subnet-config-' + str(int(time.time())) + '.json')\n",
    "put_status = s3.put_object(intgateway, 'tripoli-env', 'tripoli-intgateway-config-' + str(int(time.time())) + '.json')\n",
    "put_status = s3.put_object(int_route, 'tripoli-env', 'tripoli-route-table-config-' + str(int(time.time())) + '.json')\n",
    "put_status = s3.put_object(prj_ec2, 'tripoli-env', 'tripoli-ec2-config-' + str(int(time.time())) + '.json')\n",
    "put_status = s3.put_object(dbsubnetgrp, 'tripoli-env', 'tripoli-dbsubnet-config-' + str(int(time.time())) + '.json')\n",
    "put_status = s3.put_object(prj_db, 'tripoli-env', 'tripoli-db-config-' + str(int(time.time())) + '.json')"
   ]
  }
 ],
 "metadata": {
  "kernelspec": {
   "display_name": "Python 3",
   "language": "python",
   "name": "python3"
  },
  "language_info": {
   "codemirror_mode": {
    "name": "ipython",
    "version": 3
   },
   "file_extension": ".py",
   "mimetype": "text/x-python",
   "name": "python",
   "nbconvert_exporter": "python",
   "pygments_lexer": "ipython3",
   "version": "3.7.9"
  }
 },
 "nbformat": 4,
 "nbformat_minor": 4
}
