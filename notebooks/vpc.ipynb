{
 "cells": [
  {
   "cell_type": "code",
   "execution_count": 33,
   "metadata": {},
   "outputs": [],
   "source": [
    "import boto3\n",
    "import re\n",
    "import urllib.request as req"
   ]
  },
  {
   "cell_type": "code",
   "execution_count": 34,
   "metadata": {},
   "outputs": [],
   "source": [
    "def get_public_ip():\n",
    "    data = str(req.urlopen('http://checkip.dyndns.com/').read())\n",
    "    \n",
    "    return re.compile(r'Address: (\\d+.\\d+.\\d+.\\d+)').search(data).group(1)\n",
    "\n",
    "\n",
    "def create_vpc(boto_session, cidr, name):\n",
    "    ec2 = boto_session.resource('ec2')\n",
    "    vpc = ec2.create_vpc(CidrBlock = cidr, \n",
    "                         TagSpecifications=[{'ResourceType': 'vpc', 'Tags': [{'Key': 'Name', 'Value': name}]}])\n",
    "    vpc.wait_until_available()\n",
    "    \n",
    "    return vpc\n",
    "    \n",
    "def create_subnet(vpc, cidr, az, name):\n",
    "    subnet = vpc.create_subnet(AvailabilityZone = az,\n",
    "                      CidrBlock = cidr,\n",
    "                      TagSpecifications=[{'ResourceType': 'subnet', 'Tags': [{'Key': 'Name','Value': name}]}])\n",
    "\n",
    "    return subnet\n",
    "\n",
    "def create_internet_gateway(boto_session, vpc, name):\n",
    "    ec2 = boto_session.resource('ec2')\n",
    "    ig = ec2.create_internet_gateway(TagSpecifications=[{'ResourceType': 'internet-gateway', 'Tags': [{'Key': 'Name','Value': name}]}])\n",
    "    vpc.attach_internet_gateway(InternetGatewayId=ig.id)\n",
    "\n",
    "    return ig\n",
    "\n",
    "def create_route_table(vpc, name):\n",
    "    rt = vpc.create_route_table(TagSpecifications=[{'ResourceType': 'route-table', 'Tags': [{'Key': 'Name','Value': name}]}])\n",
    "\n",
    "    return rt\n",
    "\n",
    "def create_db_subnet_group(boto_session, db_identifier, subnet_ids):\n",
    "    rds = boto_session.client('rds')\n",
    "    dbsubnet = rds.create_db_subnet_group(DBSubnetGroupDescription='{db} subnet group'.format(db=db_identifier),\n",
    "                                          DBSubnetGroupName='{db}-subnetgroup'.format(db=db_identifier),\n",
    "                                          SubnetIds=[dbsubnet01.id,dbsubnet02.id],\n",
    "                                          Tags=[{'Key': 'Name','Value': '{db}-subnetgroup'.format(db=db_identifier)}])\n",
    "    \n",
    "    return dbsubnet\n",
    "\n",
    "def create_basic_ec2_security_group(boto_session, vpc, name):\n",
    "    ec2 = boto_session.resource('ec2')\n",
    "    secgrp = ec2.create_security_group(GroupName=name,\n",
    "                                   Description='basic security group for ec2',\n",
    "                                   VpcId=vpc.id,\n",
    "                                   TagSpecifications=[{'ResourceType': 'security-group', 'Tags': [{'Key': 'Name','Value': name}]}])\n",
    "    ip22 = get_public_ip() + '/32'\n",
    "    secgrp.authorize_ingress(GroupId=secgrp.id,\n",
    "                             IpPermissions=[\n",
    "                                 {'IpProtocol': 'tcp',\n",
    "                                  'FromPort': 80,\n",
    "                                  'ToPort': 80,\n",
    "                                  'IpRanges': [{'CidrIp': '0.0.0.0/0'}]},\n",
    "                                 {'IpProtocol': 'tcp',\n",
    "                                  'FromPort': 443,\n",
    "                                  'ToPort': 443,\n",
    "                                  'IpRanges': [{'CidrIp': '0.0.0.0/0'}]},\n",
    "                                 {'IpProtocol': 'tcp',\n",
    "                                  'FromPort': 22,\n",
    "                                  'ToPort': 22,\n",
    "                                  'IpRanges': [{'CidrIp': ip22}]}\n",
    "                             ])\n",
    "\n",
    "    return secgrp\n",
    "\n",
    "def create_mysqldb_security_group(boto_session, vpc, name):\n",
    "    ec2 = boto_session.resource('ec2')\n",
    "    secgrp = ec2.create_security_group(GroupName=name,\n",
    "                                   Description='basic security group for mysql db',\n",
    "                                   VpcId=vpc.id,\n",
    "                                   TagSpecifications=[{'ResourceType': 'security-group', 'Tags': [{'Key': 'Name','Value': name}]}])\n",
    "    secgrp.authorize_ingress(GroupId=secgrp.id,\n",
    "                             IpPermissions=[\n",
    "                                 {'IpProtocol': 'tcp',\n",
    "                                  'FromPort': 3306,\n",
    "                                  'ToPort': 3306,\n",
    "                                  'IpRanges': [{'CidrIp': '0.0.0.0/0'}]}\n",
    "                             ])\n",
    "    return secgrp"
   ]
  },
  {
   "cell_type": "code",
   "execution_count": 3,
   "metadata": {},
   "outputs": [],
   "source": [
    "asm = boto3.Session(profile_name = 'mjn', region_name = 'us-west-2')\n",
    "projectvpc = create_vpc(asm, '213.213.48.0/24', 'tripoli-vpc')\n",
    "dbsubnet01 = create_subnet(projectvpc, '213.213.48.32/27', 'us-west-2a', 'tripoli-dbsubnet-01')\n",
    "dbsubnet02 = create_subnet(projectvpc, '213.213.48.64/27', 'us-west-2d', 'tripoli-dbsubnet-02')\n",
    "publicsubnet = create_subnet(projectvpc, '213.213.48.96/27', 'us-west-2d', 'tripoli-publicsubnet')\n",
    "dbsubnetgrp = create_db_subnet_group(asm, 'tripoli-db', [SubnetId=dbsubnet01.id, SubnetId=dbsubnet02.id])\n",
    "intgateway = create_internet_gateway(asm, projectvpc, 'tripoli-ig')\n",
    "routetable = create_route_table(projectvpc, 'tripoli-routetable')"
   ]
  },
  {
   "cell_type": "code",
   "execution_count": 46,
   "metadata": {},
   "outputs": [],
   "source": [
    "ec2secgrp = create_basic_ec2_security_group(asm, projectvpc, 'tripoli-ec2-securitygroup')\n",
    "dbsecgrp = create_mysqldb_security_group(asm, projectvpc, 'tripoli-db-securitygroup')"
   ]
  },
  {
   "cell_type": "code",
   "execution_count": 76,
   "metadata": {},
   "outputs": [
    {
     "data": {
      "text/plain": [
       "'tripoli-db-subnetgroup'"
      ]
     },
     "execution_count": 76,
     "metadata": {},
     "output_type": "execute_result"
    }
   ],
   "source": [
    "dbsubnetgrp['DBSubnetGroup']['DBSubnetGroupName']"
   ]
  },
  {
   "cell_type": "code",
   "execution_count": null,
   "metadata": {},
   "outputs": [],
   "source": [
    "def main():\n",
    "    db_identifier = 'yourDBID'\n",
    "    rds = boto3.client('rds')\n",
    "    try:\n",
    "        rds.create_db_instance(DBInstanceIdentifier=db_identifier,\n",
    "                               AllocatedStorage=20,\n",
    "                               DBName='yourdbname',\n",
    "                               Engine='postgres',\n",
    "                               # General purpose SSD\n",
    "                               StorageType='gp2',\n",
    "                               StorageEncrypted=True,\n",
    "                               AutoMinorVersionUpgrade=True,\n",
    "                               # Set this to true later?\n",
    "                               MultiAZ=False,\n",
    "                               MasterUsername='youruser',\n",
    "                               MasterUserPassword='yourpassword',\n",
    "                               VpcSecurityGroupIds=['YOUR_SECURITY_GROUP_ID'],\n",
    "                               DBInstanceClass='db.m3.2xlarge',\n",
    "                               Tags=[{'Key': 'MyTag', 'Value': 'Hawaii'}])\n",
    "        print 'Starting RDS instance with ID: %s' % db_identifier\n",
    "    except botocore.exceptions.ClientError as e:"
   ]
  },
  {
   "cell_type": "code",
   "execution_count": 14,
   "metadata": {},
   "outputs": [],
   "source": [
    "rds = asm.client('rds')"
   ]
  },
  {
   "cell_type": "code",
   "execution_count": 15,
   "metadata": {},
   "outputs": [
    {
     "data": {
      "text/plain": [
       "{'DBSubnetGroup': {'DBSubnetGroupName': 'tripilo-db-subnetgroup',\n",
       "  'DBSubnetGroupDescription': 'tripoli-db subnet group',\n",
       "  'VpcId': 'vpc-05c7fca01add973b3',\n",
       "  'SubnetGroupStatus': 'Complete',\n",
       "  'Subnets': [{'SubnetIdentifier': 'subnet-0121639c0b909a328',\n",
       "    'SubnetAvailabilityZone': {'Name': 'us-west-2d'},\n",
       "    'SubnetOutpost': {},\n",
       "    'SubnetStatus': 'Active'},\n",
       "   {'SubnetIdentifier': 'subnet-02a60444a3028b638',\n",
       "    'SubnetAvailabilityZone': {'Name': 'us-west-2a'},\n",
       "    'SubnetOutpost': {},\n",
       "    'SubnetStatus': 'Active'}],\n",
       "  'DBSubnetGroupArn': 'arn:aws:rds:us-west-2:329938676177:subgrp:tripilo-db-subnetgroup'},\n",
       " 'ResponseMetadata': {'RequestId': '0e6a5ae7-7c1b-4eb6-8c47-d4bd16af008c',\n",
       "  'HTTPStatusCode': 200,\n",
       "  'HTTPHeaders': {'x-amzn-requestid': '0e6a5ae7-7c1b-4eb6-8c47-d4bd16af008c',\n",
       "   'content-type': 'text/xml',\n",
       "   'content-length': '1282',\n",
       "   'date': 'Tue, 16 Mar 2021 00:50:01 GMT'},\n",
       "  'RetryAttempts': 0}}"
      ]
     },
     "execution_count": 15,
     "metadata": {},
     "output_type": "execute_result"
    }
   ],
   "source": [
    "rds"
   ]
  },
  {
   "cell_type": "code",
   "execution_count": 77,
   "metadata": {},
   "outputs": [
    {
     "data": {
      "text/plain": [
       "{'DBInstance': {'DBInstanceIdentifier': 'tripoli-db',\n",
       "  'DBInstanceClass': 'db.t2.micro',\n",
       "  'Engine': 'mysql',\n",
       "  'DBInstanceStatus': 'creating',\n",
       "  'MasterUsername': 'tripoliadmin',\n",
       "  'DBName': 'tripoliwordpress',\n",
       "  'AllocatedStorage': 20,\n",
       "  'PreferredBackupWindow': '13:25-13:55',\n",
       "  'BackupRetentionPeriod': 1,\n",
       "  'DBSecurityGroups': [],\n",
       "  'VpcSecurityGroups': [{'VpcSecurityGroupId': 'sg-0bfb6cc71db10355f',\n",
       "    'Status': 'active'}],\n",
       "  'DBParameterGroups': [{'DBParameterGroupName': 'default.mysql8.0',\n",
       "    'ParameterApplyStatus': 'in-sync'}],\n",
       "  'DBSubnetGroup': {'DBSubnetGroupName': 'tripoli-db-subnetgroup',\n",
       "   'DBSubnetGroupDescription': 'tripoli-db subnet group',\n",
       "   'VpcId': 'vpc-05c7fca01add973b3',\n",
       "   'SubnetGroupStatus': 'Complete',\n",
       "   'Subnets': [{'SubnetIdentifier': 'subnet-0121639c0b909a328',\n",
       "     'SubnetAvailabilityZone': {'Name': 'us-west-2d'},\n",
       "     'SubnetOutpost': {},\n",
       "     'SubnetStatus': 'Active'},\n",
       "    {'SubnetIdentifier': 'subnet-02a60444a3028b638',\n",
       "     'SubnetAvailabilityZone': {'Name': 'us-west-2a'},\n",
       "     'SubnetOutpost': {},\n",
       "     'SubnetStatus': 'Active'}]},\n",
       "  'PreferredMaintenanceWindow': 'tue:10:38-tue:11:08',\n",
       "  'PendingModifiedValues': {'MasterUserPassword': '****'},\n",
       "  'MultiAZ': False,\n",
       "  'EngineVersion': '8.0.20',\n",
       "  'AutoMinorVersionUpgrade': True,\n",
       "  'ReadReplicaDBInstanceIdentifiers': [],\n",
       "  'LicenseModel': 'general-public-license',\n",
       "  'OptionGroupMemberships': [{'OptionGroupName': 'default:mysql-8-0',\n",
       "    'Status': 'in-sync'}],\n",
       "  'PubliclyAccessible': False,\n",
       "  'StorageType': 'gp2',\n",
       "  'DbInstancePort': 0,\n",
       "  'StorageEncrypted': False,\n",
       "  'DbiResourceId': 'db-OTD3JYKB4VULEJG6K6YZT3JNCY',\n",
       "  'CACertificateIdentifier': 'rds-ca-2019',\n",
       "  'DomainMemberships': [],\n",
       "  'CopyTagsToSnapshot': False,\n",
       "  'MonitoringInterval': 0,\n",
       "  'DBInstanceArn': 'arn:aws:rds:us-west-2:329938676177:db:tripoli-db',\n",
       "  'IAMDatabaseAuthenticationEnabled': False,\n",
       "  'PerformanceInsightsEnabled': False,\n",
       "  'DeletionProtection': False,\n",
       "  'AssociatedRoles': [],\n",
       "  'TagList': [{'Key': 'Name', 'Value': 'tripoli-db'}]},\n",
       " 'ResponseMetadata': {'RequestId': '12864a81-4b0c-4c45-96de-8005c561880a',\n",
       "  'HTTPStatusCode': 200,\n",
       "  'HTTPHeaders': {'x-amzn-requestid': '12864a81-4b0c-4c45-96de-8005c561880a',\n",
       "   'content-type': 'text/xml',\n",
       "   'content-length': '3900',\n",
       "   'vary': 'accept-encoding',\n",
       "   'date': 'Tue, 16 Mar 2021 05:00:37 GMT'},\n",
       "  'RetryAttempts': 0}}"
      ]
     },
     "execution_count": 77,
     "metadata": {},
     "output_type": "execute_result"
    }
   ],
   "source": [
    "rds.create_db_instance(DBName='tripoliwordpress',\n",
    "                       DBInstanceIdentifier='tripoli-db',\n",
    "                       AllocatedStorage=20,\n",
    "                       DBInstanceClass='db.t2.micro',\n",
    "                       Engine='mysql',\n",
    "                       MasterUsername='tripoliadmin',\n",
    "                       MasterUserPassword='Tripoli2021!',\n",
    "                       StorageType='gp2',\n",
    "                       StorageEncrypted=False,\n",
    "                       AutoMinorVersionUpgrade=True,\n",
    "                       MultiAZ=False,\n",
    "                       PubliclyAccessible=False,\n",
    "                       VpcSecurityGroupIds=[dbsecgrp.id],\n",
    "                       DBSubnetGroupName=dbsubnetgrp['DBSubnetGroup']['DBSubnetGroupName'],\n",
    "                       Tags=[{'Key': 'Name', 'Value': 'tripoli-db'}])"
   ]
  },
  {
   "cell_type": "code",
   "execution_count": null,
   "metadata": {},
   "outputs": [],
   "source": []
  }
 ],
 "metadata": {
  "kernelspec": {
   "display_name": "Python 3",
   "language": "python",
   "name": "python3"
  },
  "language_info": {
   "codemirror_mode": {
    "name": "ipython",
    "version": 3
   },
   "file_extension": ".py",
   "mimetype": "text/x-python",
   "name": "python",
   "nbconvert_exporter": "python",
   "pygments_lexer": "ipython3",
   "version": "3.7.9"
  }
 },
 "nbformat": 4,
 "nbformat_minor": 4
}
