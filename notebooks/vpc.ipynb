{
 "cells": [
  {
   "cell_type": "code",
   "execution_count": 1,
   "metadata": {},
   "outputs": [],
   "source": [
    "import boto3\n",
    "import re\n",
    "import urllib.request as req"
   ]
  },
  {
   "cell_type": "code",
   "execution_count": 2,
   "metadata": {},
   "outputs": [],
   "source": [
    "def get_public_ip():\n",
    "    data = str(req.urlopen('http://checkip.dyndns.com/').read())\n",
    "    \n",
    "    return re.compile(r'Address: (\\d+.\\d+.\\d+.\\d+)').search(data).group(1)\n",
    "\n",
    "\n",
    "def create_vpc(boto_session, cidr, name):\n",
    "    ec2 = boto_session.resource('ec2')\n",
    "    vpc = ec2.create_vpc(CidrBlock = cidr, \n",
    "                         TagSpecifications=[{'ResourceType': 'vpc', 'Tags': [{'Key': 'Name', 'Value': name}]}])\n",
    "    vpc.wait_until_available()\n",
    "    #default security group, open internal traffic\n",
    "    for sg in vpc.security_groups.all():\n",
    "        sg_tag = name + '-internal-securitygroup'\n",
    "        ec2.SecurityGroup(sg.id).create_tags(Tags=[{'Key': 'Name','Value': sg_tag}])\n",
    "    #default route table\n",
    "    for rt in vpc.route_tables.all():\n",
    "        rt_tag = name + '-route-table'\n",
    "        ec2.RouteTable(rt.id).create_tags(Tags=[{'Key': 'Name','Value': rt_tag}])\n",
    "        \n",
    "    return vpc, sg, rt \n",
    "    \n",
    "def create_subnet(vpc, cidr, az, name):\n",
    "    subnet = vpc.create_subnet(AvailabilityZone = az,\n",
    "                      CidrBlock = cidr,\n",
    "                      TagSpecifications=[{'ResourceType': 'subnet', 'Tags': [{'Key': 'Name','Value': name}]}])\n",
    "\n",
    "    return subnet\n",
    "\n",
    "def create_internet_gateway(boto_session, vpc, name):\n",
    "    ec2 = boto_session.resource('ec2')\n",
    "    ig = ec2.create_internet_gateway(TagSpecifications=[{'ResourceType': 'internet-gateway', 'Tags': [{'Key': 'Name','Value': name}]}])\n",
    "    vpc.attach_internet_gateway(InternetGatewayId=ig.id)\n",
    "\n",
    "    return ig\n",
    "\n",
    "def create_route_table(vpc, name):\n",
    "    rt = vpc.create_route_table(TagSpecifications=[{'ResourceType': 'route-table', 'Tags': [{'Key': 'Name','Value': name}]}])\n",
    "\n",
    "    return rt\n",
    "\n",
    "def create_db_subnet_group(boto_session, db_identifier, subnet_ids):\n",
    "    rds = boto_session.client('rds')\n",
    "    dbsubnet = rds.create_db_subnet_group(DBSubnetGroupDescription='{db} subnet group'.format(db=db_identifier),\n",
    "                                          DBSubnetGroupName='{db}-subnetgroup'.format(db=db_identifier),\n",
    "                                          SubnetIds=[dbsubnet01.id,dbsubnet02.id],\n",
    "                                          Tags=[{'Key': 'Name','Value': '{db}-subnetgroup'.format(db=db_identifier)}])\n",
    "    \n",
    "    return dbsubnet\n",
    "\n",
    "def create_external_ec2_security_group(boto_session, vpc, name):\n",
    "    ec2 = boto_session.resource('ec2')\n",
    "    secgrp = ec2.create_security_group(GroupName=name,\n",
    "                                   Description='basic security group for ec2',\n",
    "                                   VpcId=vpc.id,\n",
    "                                   TagSpecifications=[{'ResourceType': 'security-group', 'Tags': [{'Key': 'Name','Value': name}]}])\n",
    "    ip22 = get_public_ip() + '/32'\n",
    "    secgrp.authorize_ingress(GroupId=secgrp.id,\n",
    "                             IpPermissions=[\n",
    "                                 {'IpProtocol': 'tcp',\n",
    "                                  'FromPort': 80,\n",
    "                                  'ToPort': 80,\n",
    "                                  'IpRanges': [{'CidrIp': '0.0.0.0/0'}]},\n",
    "                                 {'IpProtocol': 'tcp',\n",
    "                                  'FromPort': 443,\n",
    "                                  'ToPort': 443,\n",
    "                                  'IpRanges': [{'CidrIp': '0.0.0.0/0'}]},\n",
    "                                 {'IpProtocol': 'tcp',\n",
    "                                  'FromPort': 22,\n",
    "                                  'ToPort': 22,\n",
    "                                  'IpRanges': [{'CidrIp': ip22}]}\n",
    "                             ])\n",
    "\n",
    "    return secgrp\n",
    "\n",
    "def create_mysqldb_security_group(boto_session, vpc, name):\n",
    "    ec2 = boto_session.resource('ec2')\n",
    "    secgrp = ec2.create_security_group(GroupName=name,\n",
    "                                   Description='basic security group for mysql db',\n",
    "                                   VpcId=vpc.id,\n",
    "                                   TagSpecifications=[{'ResourceType': 'security-group', 'Tags': [{'Key': 'Name','Value': name}]}])\n",
    "    secgrp.authorize_ingress(GroupId=secgrp.id,\n",
    "                             IpPermissions=[\n",
    "                                 {'IpProtocol': 'tcp',\n",
    "                                  'FromPort': 3306,\n",
    "                                  'ToPort': 3306,\n",
    "                                  'IpRanges': [{'CidrIp': '0.0.0.0/0'}]}\n",
    "                             ])\n",
    "    return secgrp"
   ]
  },
  {
   "cell_type": "code",
   "execution_count": 3,
   "metadata": {},
   "outputs": [],
   "source": [
    "asm = boto3.Session(profile_name = 'mjn', region_name = 'us-west-2')"
   ]
  },
  {
   "cell_type": "code",
   "execution_count": 4,
   "metadata": {},
   "outputs": [],
   "source": [
    "prj_vpc, internal_sg, route_tbl = create_vpc(asm, '213.213.48.0/24', 'tripoli-vpc')"
   ]
  },
  {
   "cell_type": "code",
   "execution_count": 5,
   "metadata": {},
   "outputs": [],
   "source": [
    "dbsubnet01 = create_subnet(prj_vpc, '213.213.48.32/27', 'us-west-2b', 'tripoli-dbsubnet-01')\n",
    "dbsubnet02 = create_subnet(prj_vpc, '213.213.48.64/27', 'us-west-2c', 'tripoli-dbsubnet-02')\n",
    "publicsubnet = create_subnet(prj_vpc, '213.213.48.96/27', 'us-west-2a', 'tripoli-publicsubnet')"
   ]
  },
  {
   "cell_type": "code",
   "execution_count": 23,
   "metadata": {},
   "outputs": [
    {
     "data": {
      "text/plain": [
       "False"
      ]
     },
     "execution_count": 23,
     "metadata": {},
     "output_type": "execute_result"
    }
   ],
   "source": [
    "publicsubnet.map_public_ip_on_launch"
   ]
  },
  {
   "cell_type": "code",
   "execution_count": null,
   "metadata": {},
   "outputs": [],
   "source": [
    "publicsubnet."
   ]
  },
  {
   "cell_type": "code",
   "execution_count": 6,
   "metadata": {},
   "outputs": [
    {
     "data": {
      "text/plain": [
       "ec2.Route(route_table_id='rtb-0eb7cf5fc44515dde', destination_cidr_block='0.0.0.0/0')"
      ]
     },
     "execution_count": 6,
     "metadata": {},
     "output_type": "execute_result"
    }
   ],
   "source": [
    "intgateway = create_internet_gateway(asm, prj_vpc, 'tripoli-ig')\n",
    "route_tbl.create_route(DestinationCidrBlock='0.0.0.0/0',GatewayId=intgateway.id)"
   ]
  },
  {
   "cell_type": "code",
   "execution_count": 9,
   "metadata": {},
   "outputs": [],
   "source": [
    "dbsubnetgrp = create_db_subnet_group(asm, 'tripoli-db', [dbsubnet01.id, dbsubnet02.id])"
   ]
  },
  {
   "cell_type": "code",
   "execution_count": 8,
   "metadata": {},
   "outputs": [],
   "source": [
    "rds = asm.client('rds')"
   ]
  },
  {
   "cell_type": "code",
   "execution_count": 10,
   "metadata": {},
   "outputs": [],
   "source": [
    "mysqldb_rds = rds.create_db_instance(DBName='tripoliwordpress',\n",
    "                       DBInstanceIdentifier='tripoli-db',\n",
    "                       AllocatedStorage=20,\n",
    "                       DBInstanceClass='db.t2.micro',\n",
    "                       Engine='mysql',\n",
    "                       MasterUsername='#####',\n",
    "                       MasterUserPassword='#####',\n",
    "                       StorageType='gp2',\n",
    "                       StorageEncrypted=False,\n",
    "                       AutoMinorVersionUpgrade=True,\n",
    "                       MultiAZ=False,\n",
    "                       DBSubnetGroupName=dbsubnetgrp['DBSubnetGroup']['DBSubnetGroupName'],\n",
    "                       PubliclyAccessible=False,\n",
    "                       VpcSecurityGroupIds=[internal_sg.id],\n",
    "                       Tags=[{'Key': 'Name', 'Value': 'tripoli-db'}])"
   ]
  },
  {
   "cell_type": "code",
   "execution_count": 11,
   "metadata": {},
   "outputs": [],
   "source": [
    "ec2secgrp = create_external_ec2_security_group(asm, prj_vpc, 'tripoli-ec2-securitygroup')"
   ]
  },
  {
   "cell_type": "code",
   "execution_count": 12,
   "metadata": {},
   "outputs": [
    {
     "data": {
      "text/plain": [
       "'sg-07e4f4cf75439fa83'"
      ]
     },
     "execution_count": 12,
     "metadata": {},
     "output_type": "execute_result"
    }
   ],
   "source": [
    "ec2secgrp.id"
   ]
  },
  {
   "cell_type": "code",
   "execution_count": 13,
   "metadata": {},
   "outputs": [],
   "source": [
    "ec2 = asm.resource('ec2')"
   ]
  },
  {
   "cell_type": "code",
   "execution_count": 14,
   "metadata": {},
   "outputs": [],
   "source": [
    "priv_key = ec2.create_key_pair(KeyName='tripoli_ec2_key')"
   ]
  },
  {
   "cell_type": "code",
   "execution_count": 26,
   "metadata": {},
   "outputs": [],
   "source": [
    "tripoli_ec2 = ec2.create_instances(ImageId='ami-00f9f4069d04c0c6e',\n",
    "                     InstanceType='t2.micro',\n",
    "                     MaxCount=1,\n",
    "                     MinCount=1,\n",
    "                     SubnetId=publicsubnet.id,\n",
    "                     BlockDeviceMappings=[{'DeviceName': '/dev/xvda',\n",
    "                                           'VirtualName': 'tripoli-storage',\n",
    "                                           'Ebs': {'DeleteOnTermination': True,\n",
    "                                                   'VolumeSize': 30}\n",
    "                                          }],\n",
    "                     TagSpecifications=[{'ResourceType': 'instance', 'Tags': [{'Key': 'Name','Value': 'tripoli-ec2'}]}],\n",
    "                     SecurityGroupIds=[ec2secgrp.id],\n",
    "                     KeyName=priv_key.name)"
   ]
  },
  {
   "cell_type": "code",
   "execution_count": 31,
   "metadata": {},
   "outputs": [
    {
     "data": {
      "text/plain": [
       "[ec2.NetworkInterface(id='eni-03f098721d4a09fe3')]"
      ]
     },
     "execution_count": 31,
     "metadata": {},
     "output_type": "execute_result"
    }
   ],
   "source": [
    "tripoli_ec2[0].network_interfaces"
   ]
  },
  {
   "cell_type": "code",
   "execution_count": 34,
   "metadata": {},
   "outputs": [
    {
     "name": "stdout",
     "output_type": "stream",
     "text": [
      "ec2.NetworkInterface(id='eni-042f30601acfad36a')\n",
      "ec2.NetworkInterface(id='eni-03f098721d4a09fe3')\n"
     ]
    }
   ],
   "source": [
    "for ni in ec2.network_interfaces.all():\n",
    "    print(ni)"
   ]
  },
  {
   "cell_type": "code",
   "execution_count": 19,
   "metadata": {},
   "outputs": [],
   "source": [
    "text_file = open(\"/Users/mjn/.ssh/test.pem\", \"w\")\n",
    "n = text_file.write(priv_key.key_material)\n",
    "text_file.close()"
   ]
  },
  {
   "cell_type": "code",
   "execution_count": 24,
   "metadata": {},
   "outputs": [
    {
     "data": {
      "text/plain": [
       "ec2.subnetsCollectionManager(ec2.ServiceResource(), ec2.Subnet)"
      ]
     },
     "execution_count": 24,
     "metadata": {},
     "output_type": "execute_result"
    }
   ],
   "source": [
    "ec2.subnets."
   ]
  },
  {
   "cell_type": "code",
   "execution_count": 35,
   "metadata": {},
   "outputs": [],
   "source": [
    "ec2_client = asm.client('ec2')"
   ]
  },
  {
   "cell_type": "code",
   "execution_count": null,
   "metadata": {},
   "outputs": [],
   "source": [
    "ec2_client.modify_s"
   ]
  }
 ],
 "metadata": {
  "kernelspec": {
   "display_name": "Python 3",
   "language": "python",
   "name": "python3"
  },
  "language_info": {
   "codemirror_mode": {
    "name": "ipython",
    "version": 3
   },
   "file_extension": ".py",
   "mimetype": "text/x-python",
   "name": "python",
   "nbconvert_exporter": "python",
   "pygments_lexer": "ipython3",
   "version": "3.7.9"
  }
 },
 "nbformat": 4,
 "nbformat_minor": 4
}
