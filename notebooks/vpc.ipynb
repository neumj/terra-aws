{
 "cells": [
  {
   "cell_type": "code",
   "execution_count": 1,
   "metadata": {},
   "outputs": [],
   "source": [
    "import boto3\n",
    "import re\n",
    "import urllib.request as req\n",
    "import os\n",
    "from terraaws.etl import JSON"
   ]
  },
  {
   "cell_type": "code",
   "execution_count": 11,
   "metadata": {},
   "outputs": [],
   "source": [
    "from terraaws.session import BotoSession"
   ]
  },
  {
   "cell_type": "code",
   "execution_count": 1,
   "metadata": {},
   "outputs": [
    {
     "ename": "NameError",
     "evalue": "name 'bsm' is not defined",
     "output_type": "error",
     "traceback": [
      "\u001b[0;31m---------------------------------------------------------------------------\u001b[0m",
      "\u001b[0;31mNameError\u001b[0m                                 Traceback (most recent call last)",
      "\u001b[0;32m<ipython-input-1-e208b33ee1a4>\u001b[0m in \u001b[0;36m<module>\u001b[0;34m\u001b[0m\n\u001b[0;32m----> 1\u001b[0;31m \u001b[0mbsm\u001b[0m\u001b[0;34m.\u001b[0m\u001b[0mprofile_name\u001b[0m\u001b[0;34m\u001b[0m\u001b[0;34m\u001b[0m\u001b[0m\n\u001b[0m",
      "\u001b[0;31mNameError\u001b[0m: name 'bsm' is not defined"
     ]
    }
   ],
   "source": [
    "bsm.profile_name"
   ]
  },
  {
   "cell_type": "code",
   "execution_count": 12,
   "metadata": {},
   "outputs": [],
   "source": [
    "bsm = BotoSession(profile_name='mjn')"
   ]
  },
  {
   "cell_type": "code",
   "execution_count": 1,
   "metadata": {},
   "outputs": [],
   "source": [
    "from terraaws.utilities import S3"
   ]
  },
  {
   "cell_type": "code",
   "execution_count": 2,
   "metadata": {},
   "outputs": [],
   "source": [
    "s3 = S3(profile_name = 'mjn')"
   ]
  },
  {
   "cell_type": "code",
   "execution_count": 3,
   "metadata": {},
   "outputs": [
    {
     "data": {
      "text/plain": [
       "{'ResponseMetadata': {'RequestId': '16RWRPVYA1SG8QQB',\n",
       "  'HostId': '9XKyE3BVMjL4L5E9E751bGS/XuX2gqaBW40UMwFx2rlkR13zfF+KQq7ELjIhZKT5zowARLf+CtI=',\n",
       "  'HTTPStatusCode': 200,\n",
       "  'HTTPHeaders': {'x-amz-id-2': '9XKyE3BVMjL4L5E9E751bGS/XuX2gqaBW40UMwFx2rlkR13zfF+KQq7ELjIhZKT5zowARLf+CtI=',\n",
       "   'x-amz-request-id': '16RWRPVYA1SG8QQB',\n",
       "   'date': 'Mon, 29 Mar 2021 16:00:43 GMT',\n",
       "   'location': 'http://taco-burrito.s3.amazonaws.com/',\n",
       "   'content-length': '0',\n",
       "   'server': 'AmazonS3'},\n",
       "  'RetryAttempts': 0},\n",
       " 'Location': 'http://taco-burrito.s3.amazonaws.com/'}"
      ]
     },
     "execution_count": 3,
     "metadata": {},
     "output_type": "execute_result"
    }
   ],
   "source": [
    "s3.create_private_bucket('taco-burrito')"
   ]
  },
  {
   "cell_type": "code",
   "execution_count": 4,
   "metadata": {},
   "outputs": [
    {
     "data": {
      "text/plain": [
       "'us_west-2'"
      ]
     },
     "execution_count": 4,
     "metadata": {},
     "output_type": "execute_result"
    }
   ],
   "source": [
    "s3.session.region_name"
   ]
  },
  {
   "cell_type": "code",
   "execution_count": 8,
   "metadata": {},
   "outputs": [
    {
     "ename": "InvalidRegionError",
     "evalue": "Provided region_name 'us_west-2' doesn't match a supported format.",
     "output_type": "error",
     "traceback": [
      "\u001b[0;31m---------------------------------------------------------------------------\u001b[0m",
      "\u001b[0;31mInvalidRegionError\u001b[0m                        Traceback (most recent call last)",
      "\u001b[0;32m<ipython-input-8-a41d6dff12db>\u001b[0m in \u001b[0;36m<module>\u001b[0;34m\u001b[0m\n\u001b[0;32m----> 1\u001b[0;31m \u001b[0ms3\u001b[0m \u001b[0;34m=\u001b[0m \u001b[0ms3\u001b[0m\u001b[0;34m.\u001b[0m\u001b[0msession\u001b[0m\u001b[0;34m.\u001b[0m\u001b[0mclient\u001b[0m\u001b[0;34m(\u001b[0m\u001b[0;34m's3'\u001b[0m\u001b[0;34m)\u001b[0m\u001b[0;34m\u001b[0m\u001b[0;34m\u001b[0m\u001b[0m\n\u001b[0m",
      "\u001b[0;32m/opt/anaconda3/envs/terra-aws/lib/python3.7/site-packages/boto3/session.py\u001b[0m in \u001b[0;36mclient\u001b[0;34m(self, service_name, region_name, api_version, use_ssl, verify, endpoint_url, aws_access_key_id, aws_secret_access_key, aws_session_token, config)\u001b[0m\n\u001b[1;32m    261\u001b[0m             \u001b[0maws_access_key_id\u001b[0m\u001b[0;34m=\u001b[0m\u001b[0maws_access_key_id\u001b[0m\u001b[0;34m,\u001b[0m\u001b[0;34m\u001b[0m\u001b[0;34m\u001b[0m\u001b[0m\n\u001b[1;32m    262\u001b[0m             \u001b[0maws_secret_access_key\u001b[0m\u001b[0;34m=\u001b[0m\u001b[0maws_secret_access_key\u001b[0m\u001b[0;34m,\u001b[0m\u001b[0;34m\u001b[0m\u001b[0;34m\u001b[0m\u001b[0m\n\u001b[0;32m--> 263\u001b[0;31m             aws_session_token=aws_session_token, config=config)\n\u001b[0m\u001b[1;32m    264\u001b[0m \u001b[0;34m\u001b[0m\u001b[0m\n\u001b[1;32m    265\u001b[0m     def resource(self, service_name, region_name=None, api_version=None,\n",
      "\u001b[0;32m/opt/anaconda3/envs/terra-aws/lib/python3.7/site-packages/botocore/session.py\u001b[0m in \u001b[0;36mcreate_client\u001b[0;34m(self, service_name, region_name, api_version, use_ssl, verify, endpoint_url, aws_access_key_id, aws_secret_access_key, aws_session_token, config)\u001b[0m\n\u001b[1;32m    795\u001b[0m             \u001b[0mconfig\u001b[0m \u001b[0;34m=\u001b[0m \u001b[0mdefault_client_config\u001b[0m\u001b[0;34m\u001b[0m\u001b[0;34m\u001b[0m\u001b[0m\n\u001b[1;32m    796\u001b[0m \u001b[0;34m\u001b[0m\u001b[0m\n\u001b[0;32m--> 797\u001b[0;31m         \u001b[0mregion_name\u001b[0m \u001b[0;34m=\u001b[0m \u001b[0mself\u001b[0m\u001b[0;34m.\u001b[0m\u001b[0m_resolve_region_name\u001b[0m\u001b[0;34m(\u001b[0m\u001b[0mregion_name\u001b[0m\u001b[0;34m,\u001b[0m \u001b[0mconfig\u001b[0m\u001b[0;34m)\u001b[0m\u001b[0;34m\u001b[0m\u001b[0;34m\u001b[0m\u001b[0m\n\u001b[0m\u001b[1;32m    798\u001b[0m \u001b[0;34m\u001b[0m\u001b[0m\n\u001b[1;32m    799\u001b[0m         \u001b[0;31m# Figure out the verify value base on the various\u001b[0m\u001b[0;34m\u001b[0m\u001b[0;34m\u001b[0m\u001b[0;34m\u001b[0m\u001b[0m\n",
      "\u001b[0;32m/opt/anaconda3/envs/terra-aws/lib/python3.7/site-packages/botocore/session.py\u001b[0m in \u001b[0;36m_resolve_region_name\u001b[0;34m(self, region_name, config)\u001b[0m\n\u001b[1;32m    851\u001b[0m                 \u001b[0mregion_name\u001b[0m \u001b[0;34m=\u001b[0m \u001b[0mself\u001b[0m\u001b[0;34m.\u001b[0m\u001b[0mget_config_variable\u001b[0m\u001b[0;34m(\u001b[0m\u001b[0;34m'region'\u001b[0m\u001b[0;34m)\u001b[0m\u001b[0;34m\u001b[0m\u001b[0;34m\u001b[0m\u001b[0m\n\u001b[1;32m    852\u001b[0m \u001b[0;34m\u001b[0m\u001b[0m\n\u001b[0;32m--> 853\u001b[0;31m         \u001b[0mvalidate_region_name\u001b[0m\u001b[0;34m(\u001b[0m\u001b[0mregion_name\u001b[0m\u001b[0;34m)\u001b[0m\u001b[0;34m\u001b[0m\u001b[0;34m\u001b[0m\u001b[0m\n\u001b[0m\u001b[1;32m    854\u001b[0m         \u001b[0;31m# For any client that we create in retrieving credentials\u001b[0m\u001b[0;34m\u001b[0m\u001b[0;34m\u001b[0m\u001b[0;34m\u001b[0m\u001b[0m\n\u001b[1;32m    855\u001b[0m         \u001b[0;31m# we want to create it using the same region as specified in\u001b[0m\u001b[0;34m\u001b[0m\u001b[0;34m\u001b[0m\u001b[0;34m\u001b[0m\u001b[0m\n",
      "\u001b[0;32m/opt/anaconda3/envs/terra-aws/lib/python3.7/site-packages/botocore/utils.py\u001b[0m in \u001b[0;36mvalidate_region_name\u001b[0;34m(region_name)\u001b[0m\n\u001b[1;32m    974\u001b[0m     \u001b[0mvalid\u001b[0m \u001b[0;34m=\u001b[0m \u001b[0mvalid_host_label\u001b[0m\u001b[0;34m.\u001b[0m\u001b[0mmatch\u001b[0m\u001b[0;34m(\u001b[0m\u001b[0mregion_name\u001b[0m\u001b[0;34m)\u001b[0m\u001b[0;34m\u001b[0m\u001b[0;34m\u001b[0m\u001b[0m\n\u001b[1;32m    975\u001b[0m     \u001b[0;32mif\u001b[0m \u001b[0;32mnot\u001b[0m \u001b[0mvalid\u001b[0m\u001b[0;34m:\u001b[0m\u001b[0;34m\u001b[0m\u001b[0;34m\u001b[0m\u001b[0m\n\u001b[0;32m--> 976\u001b[0;31m         \u001b[0;32mraise\u001b[0m \u001b[0mInvalidRegionError\u001b[0m\u001b[0;34m(\u001b[0m\u001b[0mregion_name\u001b[0m\u001b[0;34m=\u001b[0m\u001b[0mregion_name\u001b[0m\u001b[0;34m)\u001b[0m\u001b[0;34m\u001b[0m\u001b[0;34m\u001b[0m\u001b[0m\n\u001b[0m\u001b[1;32m    977\u001b[0m \u001b[0;34m\u001b[0m\u001b[0m\n\u001b[1;32m    978\u001b[0m \u001b[0;34m\u001b[0m\u001b[0m\n",
      "\u001b[0;31mInvalidRegionError\u001b[0m: Provided region_name 'us_west-2' doesn't match a supported format."
     ]
    }
   ],
   "source": [
    "s3 = s3.session.client('s3')"
   ]
  },
  {
   "cell_type": "code",
   "execution_count": 10,
   "metadata": {},
   "outputs": [
    {
     "data": {
      "text/plain": [
       "'default'"
      ]
     },
     "execution_count": 10,
     "metadata": {},
     "output_type": "execute_result"
    }
   ],
   "source": [
    "s3.session.profile_name"
   ]
  },
  {
   "cell_type": "code",
   "execution_count": 3,
   "metadata": {},
   "outputs": [],
   "source": [
    "def get_public_ip():\n",
    "    data = str(req.urlopen('http://checkip.dyndns.com/').read())\n",
    "    \n",
    "    return re.compile(r'Address: (\\d+.\\d+.\\d+.\\d+)').search(data).group(1)\n",
    "\n",
    "\n",
    "def create_env(boto_session, cidr, name):\n",
    "    ec2 = boto_session.client('ec2')\n",
    "    #vpc\n",
    "    vpc = ec2.create_vpc(CidrBlock = cidr, \n",
    "                         TagSpecifications=[{'ResourceType': 'vpc', 'Tags': [{'Key': 'Name', 'Value': name + '-vpc'}]}])\n",
    "    vpc_id = vpc['Vpc']['VpcId']\n",
    "    waiter = ec2.get_waiter('vpc_available')\n",
    "    waiter.wait(VpcIds=[vpc_id])\n",
    "    _ = ec2.modify_vpc_attribute(VpcId = vpc_id,\n",
    "                                 EnableDnsHostnames = {'Value': True})\n",
    "    \n",
    "\n",
    "    #default security group, open internal traffic\n",
    "    ip22 = get_public_ip() + '/32'\n",
    "    sg = ec2.describe_security_groups(Filters=[{'Name': 'vpc-id','Values': [vpc_id]}])\n",
    "    sg_id = sg['SecurityGroups'][0]['GroupId']\n",
    "    sg_tag = name + '-base-securitygroup'\n",
    "    int_sg_tag = ec2.create_tags(Resources=[sg_id], Tags=[{'Key': 'Name', 'Value': sg_tag}])       \n",
    "    ingress = ec2.authorize_security_group_ingress(GroupId=sg_id,\n",
    "                                                   IpPermissions=[\n",
    "                                                       {'IpProtocol': 'tcp',\n",
    "                                                        'FromPort': 80,\n",
    "                                                        'ToPort': 80,\n",
    "                                                        'IpRanges': [{'CidrIp': '0.0.0.0/0'}]},\n",
    "                                                       {'IpProtocol': 'tcp',\n",
    "                                                        'FromPort': 443,\n",
    "                                                        'ToPort': 443,\n",
    "                                                        'IpRanges': [{'CidrIp': '0.0.0.0/0'}]},\n",
    "                                                       {'IpProtocol': 'tcp',\n",
    "                                                        'FromPort': 22,\n",
    "                                                        'ToPort': 22,\n",
    "                                                        'IpRanges': [{'CidrIp': ip22}]}\n",
    "                                                   ])\n",
    "\n",
    "    \n",
    "    #default route table\n",
    "    rt = ec2.describe_route_tables(Filters=[{'Name': 'vpc-id','Values': [vpc_id]}])\n",
    "    rt_id = rt['RouteTables'][0]['Associations'][0]['RouteTableId']\n",
    "    rt_tag = name + '-routetable'\n",
    "    rt_tbl_tag = ec2.create_tags(Resources=[rt_id], Tags=[{'Key': 'Name', 'Value': rt_tag}])\n",
    "    \n",
    "    #describe\n",
    "    vpc = ec2.describe_vpcs(VpcIds=[vpc_id])\n",
    "    sg = ec2.describe_security_groups(Filters=[{'Name': 'vpc-id','Values': [vpc_id]}])\n",
    "    rt = ec2.describe_route_tables(Filters=[{'Name': 'vpc-id','Values': [vpc_id]}])\n",
    "    \n",
    "    return vpc, sg, rt \n",
    "\n",
    "\n",
    "def create_subnet(boto_session, vpc, cidr, az, name, public=False):\n",
    "    ec2 = boto_session.client('ec2')\n",
    "    subnet = ec2.create_subnet(VpcId = vpc['Vpc']['VpcId'],\n",
    "                            CidrBlock = cidr,\n",
    "                            AvailabilityZone = az,\n",
    "                            TagSpecifications=[{'ResourceType': 'subnet', 'Tags': [{'Key': 'Name','Value': name}]}])\n",
    "    #auto assign ip\n",
    "    if public == True:\n",
    "        pub_sub = ec2.modify_subnet_attribute(SubnetId = subnet['Subnet']['SubnetId'],\n",
    "                                          MapPublicIpOnLaunch = {'Value': True})\n",
    "             \n",
    "    #describe\n",
    "    subnet = ec2.describe_subnets(Filters=[{'Name': 'vpc-id','Values': [vpc_id]}])\n",
    "            \n",
    "    return subnet\n",
    "\n",
    "\n",
    "def create_internet_gateway(boto_session, vpc, name):\n",
    "    ec2 = boto_session.client('ec2')\n",
    "    ig = ec2.create_internet_gateway(TagSpecifications=[{'ResourceType': 'internet-gateway', 'Tags': [{'Key': 'Name','Value': name}]}])\n",
    "    ig_attach = ec2.attach_internet_gateway(InternetGatewayId = ig['InternetGateway']['InternetGatewayId'],\n",
    "                                     VpcId=vpc['Vpc']['VpcId'])\n",
    "\n",
    "    #describe\n",
    "    ig = ec2.describe_(Filters=[{'Name': 'internet-gateway-id',\n",
    "                                 'Values': ig['InternetGateway']['InternetGatewayId']}])\n",
    "    \n",
    "    return ig\n",
    "\n",
    "def create_internet_route(boto_session, route_table, cidr, gateway):\n",
    "    ec2 = boto_session.client('ec2')\n",
    "    rt = ec2.create_route(RouteTableId = route_table['RouteTables'][0]['RouteTableId'],\n",
    "                          DestinationCidrBlock = cidr,\n",
    "                          GatewayId = gateway['InternetGateway']['InternetGatewayId'])\n",
    "    #describe  \n",
    "    rt = ec2.describe_route_tables(RouteTableIds=[route_table['RouteTables'][0]['RouteTableId']])\n",
    "            \n",
    "    return rt\n",
    "\n",
    "\n",
    "def create_db_subnet_group(boto_session, db_identifier, subnet_ids):\n",
    "    rds = boto_session.client('rds')\n",
    "    dbsubnet = rds.create_db_subnet_group(DBSubnetGroupDescription='{db} subnet group'.format(db=db_identifier),\n",
    "                                          DBSubnetGroupName='{db}-subnetgroup'.format(db=db_identifier),\n",
    "                                          SubnetIds=subnet_ids,\n",
    "                                          Tags=[{'Key': 'Name','Value': '{db}-subnetgroup'.format(db=db_identifier)}])\n",
    "    #describe\n",
    "    dbsubnet = rds.describe_db_subnet_groups(Filters=[{'Name': 'DBSubnetGroupName',\n",
    "                                                       'Values': ['{db}-subnetgroup'.format(db=db_identifier)]}])\n",
    "\n",
    "    return dbsubnet\n",
    "\n",
    "\n",
    "def create_key(boto_session, key_name, path):\n",
    "    ec2 = boto_session.client('ec2')\n",
    "    priv_key = ec2.create_key_pair(KeyName = key_name)\n",
    "    key_file = open(path + os.sep + key_name + '.pem', \"w\")\n",
    "    f = key_file.write(priv_key['KeyMaterial'])\n",
    "    key_file.close()\n",
    "    \n",
    "    return priv_key\n",
    "    \n",
    "\n",
    "def launch_amazon_linux2(boto_session, name, subnet_id, security_groups, key_name, \n",
    "                         itype = 't2.micro', ami = 'ami-05b622b5fa0269787'):\n",
    "    ec2 = boto_session.client('ec2')\n",
    "    instance = ec2.run_instances(ImageId = ami,\n",
    "                     InstanceType = itype,\n",
    "                     MaxCount = 1,\n",
    "                     MinCount = 1,\n",
    "                     SubnetId = subnet_id,\n",
    "                     BlockDeviceMappings = [{'DeviceName': '/dev/xvda',\n",
    "                                           'VirtualName': name + '-storage',\n",
    "                                           'Ebs': {'DeleteOnTermination': True,\n",
    "                                                   'VolumeSize': 30}\n",
    "                                          }],\n",
    "                     TagSpecifications = [{'ResourceType': 'instance', \n",
    "                                         'Tags': [{'Key': 'Name','Value': name}]}],\n",
    "                     SecurityGroupIds = security_groups,\n",
    "                     KeyName = key_name)\n",
    "    waiter = ec2.get_waiter('instance_status_ok')\n",
    "    waiter.wait(InstanceIds=[instance['Instances'][0]['InstanceId']])\n",
    "\n",
    "    #describe\n",
    "    instance = ec2.describe_instances(InstanceIds=[instance['Instances'][0]['InstanceId']])\n",
    "    \n",
    "    return instance\n",
    "\n",
    "def launch_mysql_rds(dbname, username, masterpwd, dbsubnetgrp, securitygroup):\n",
    "    rds = bsm.client('rds')\n",
    "    db = rds.create_db_instance(DBName = dbname,\n",
    "                                         DBInstanceIdentifier = dbname,\n",
    "                                         AllocatedStorage = 20,\n",
    "                                         DBInstanceClass = 'db.t2.micro',\n",
    "                                         Engine = 'mysql',\n",
    "                                         MasterUsername = username,\n",
    "                                         MasterUserPassword = masterpwd,\n",
    "                                         PubliclyAccessible = True,\n",
    "                                         StorageType = 'gp2',\n",
    "                                         StorageEncrypted = False,\n",
    "                                         AutoMinorVersionUpgrade = True,\n",
    "                                         MultiAZ = False,\n",
    "                                         DBSubnetGroupName = dbsubnetgrp,\n",
    "                                         VpcSecurityGroupIds=[securitygroup],\n",
    "                                         Tags=[{'Key': 'Name', 'Value': dbname}])\n",
    "    waiter = rds.get_waiter('db_instance_available')\n",
    "    waiter.wait(DBInstanceIdentifier = db['DBInstance']['DBInstanceIdentifier'])\n",
    "    \n",
    "    #describe\n",
    "    db = rds.client.describe_db_instances(DBInstanceIdentifier=db['DBInstance']['DBInstanceIdentifier'])\n",
    "                                                                  \n",
    "    return db\n"
   ]
  },
  {
   "cell_type": "code",
   "execution_count": 10,
   "metadata": {},
   "outputs": [],
   "source": [
    "bsm = boto3.Session(profile_name = 'mjn', region_name = 'us-west-2')"
   ]
  },
  {
   "cell_type": "code",
   "execution_count": 2,
   "metadata": {},
   "outputs": [],
   "source": [
    "bsm = BotoSession(profile_name = 'mjn', region_name = 'us-west-2')"
   ]
  },
  {
   "cell_type": "code",
   "execution_count": 3,
   "metadata": {},
   "outputs": [
    {
     "ename": "TypeError",
     "evalue": "'Session' object is not callable",
     "output_type": "error",
     "traceback": [
      "\u001b[0;31m---------------------------------------------------------------------------\u001b[0m",
      "\u001b[0;31mTypeError\u001b[0m                                 Traceback (most recent call last)",
      "\u001b[0;32m<ipython-input-3-9f9ed9f2aba8>\u001b[0m in \u001b[0;36m<module>\u001b[0;34m\u001b[0m\n\u001b[0;32m----> 1\u001b[0;31m \u001b[0ms3\u001b[0m \u001b[0;34m=\u001b[0m \u001b[0mbsm\u001b[0m\u001b[0;34m.\u001b[0m\u001b[0msession\u001b[0m\u001b[0;34m(\u001b[0m\u001b[0;34m's3'\u001b[0m\u001b[0;34m)\u001b[0m\u001b[0;34m\u001b[0m\u001b[0;34m\u001b[0m\u001b[0m\n\u001b[0m",
      "\u001b[0;31mTypeError\u001b[0m: 'Session' object is not callable"
     ]
    }
   ],
   "source": [
    "s3 = bsm.session.client"
   ]
  },
  {
   "cell_type": "code",
   "execution_count": 11,
   "metadata": {},
   "outputs": [],
   "source": [
    "s3 = bsm.client('s3')\n",
    "bucket = s3.create_bucket(ACL='private', Bucket='burrito-taco',\n",
    "                          CreateBucketConfiguration = {'LocationConstraint': 'us-west-2'})"
   ]
  },
  {
   "cell_type": "code",
   "execution_count": 8,
   "metadata": {},
   "outputs": [],
   "source": []
  },
  {
   "cell_type": "code",
   "execution_count": 4,
   "metadata": {},
   "outputs": [],
   "source": [
    "prj_vpc, prj_sg, prj_rt = create_env(bsm, '213.213.48.0/24', 'tripoli')"
   ]
  },
  {
   "cell_type": "code",
   "execution_count": 5,
   "metadata": {},
   "outputs": [],
   "source": [
    "dbsubnet01 = create_subnet(bsm, prj_vpc, '213.213.48.32/27', 'us-west-2b', 'tripoli-dbsubnet-01')\n",
    "dbsubnet02 = create_subnet(bsm, prj_vpc, '213.213.48.64/27', 'us-west-2c', 'tripoli-dbsubnet-02')\n",
    "publicsubnet = create_subnet(bsm, prj_vpc, '213.213.48.96/27', 'us-west-2a', 'tripoli-publicsubnet', public = True)"
   ]
  },
  {
   "cell_type": "code",
   "execution_count": 6,
   "metadata": {},
   "outputs": [],
   "source": [
    "intgateway = create_internet_gateway(bsm, prj_vpc, 'tripoli-ig')\n",
    "int_route = create_internet_route(bsm, prj_rt, '0.0.0.0/0', intgateway)"
   ]
  },
  {
   "cell_type": "code",
   "execution_count": 8,
   "metadata": {},
   "outputs": [],
   "source": [
    "prj_ec2 = launch_amazon_linux2(bsm, 'tripoli-ec2', publicsubnet['Subnet']['SubnetId'], \n",
    "                                   [prj_sg['SecurityGroups'][0]['GroupId']],\n",
    "                                  'tripoli_key')"
   ]
  },
  {
   "cell_type": "code",
   "execution_count": 9,
   "metadata": {},
   "outputs": [],
   "source": [
    "dbsubnetgrp = create_db_subnet_group(bsm, 'tripolidb', \n",
    "                                     [dbsubnet01['Subnet']['SubnetId'], dbsubnet02['Subnet']['SubnetId']])"
   ]
  },
  {
   "cell_type": "code",
   "execution_count": 12,
   "metadata": {},
   "outputs": [],
   "source": [
    "prj_db = launch_mysql_rds('*****', '*****', '*****', \n",
    "                 dbsubnetgrp['DBSubnetGroup']['DBSubnetGroupName'], \n",
    "                 prj_sg['SecurityGroups'][0]['GroupId'])"
   ]
  }
 ],
 "metadata": {
  "kernelspec": {
   "display_name": "Python 3",
   "language": "python",
   "name": "python3"
  },
  "language_info": {
   "codemirror_mode": {
    "name": "ipython",
    "version": 3
   },
   "file_extension": ".py",
   "mimetype": "text/x-python",
   "name": "python",
   "nbconvert_exporter": "python",
   "pygments_lexer": "ipython3",
   "version": "3.7.9"
  }
 },
 "nbformat": 4,
 "nbformat_minor": 4
}
