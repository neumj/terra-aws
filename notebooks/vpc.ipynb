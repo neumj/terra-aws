{
 "cells": [
  {
   "cell_type": "code",
   "execution_count": 110,
   "metadata": {},
   "outputs": [],
   "source": [
    "import boto3\n",
    "import re\n",
    "import urllib.request as req\n",
    "import os"
   ]
  },
  {
   "cell_type": "code",
   "execution_count": 107,
   "metadata": {},
   "outputs": [],
   "source": [
    "def get_public_ip():\n",
    "    data = str(req.urlopen('http://checkip.dyndns.com/').read())\n",
    "    \n",
    "    return re.compile(r'Address: (\\d+.\\d+.\\d+.\\d+)').search(data).group(1)\n",
    "\n",
    "\n",
    "def create_vpc(boto_session, cidr, name):\n",
    "    ec2 = boto_session.client('ec2')\n",
    "    vpc = ec2.create_vpc(CidrBlock = cidr, \n",
    "                         TagSpecifications=[{'ResourceType': 'vpc', 'Tags': [{'Key': 'Name', 'Value': name}]}])\n",
    "    vpc_id = vpc['Vpc']['VpcId']\n",
    "    waiter = ec2.get_waiter('vpc_available')\n",
    "    waiter.wait(VpcIds=[vpc_id])\n",
    "    #default security group, open internal traffic\n",
    "    sg = ec2.describe_security_groups(Filters=[{'Name': 'vpc-id','Values': [vpc_id]}])\n",
    "    sg_id = sg['SecurityGroups'][0]['GroupId']\n",
    "    sg_tag = name + '-internal-securitygroup'\n",
    "    int_sg_tag = ec2.create_tags(Resources=[sg_id], Tags=[{'Key': 'Name', 'Value': sg_tag}])\n",
    "    #default route table\n",
    "    rt = ec2.describe_route_tables(Filters=[{'Name': 'vpc-id','Values': [vpc_id]}])\n",
    "    rt_id = rt['RouteTables'][0]['Associations'][0]['RouteTableId']\n",
    "    rt_tag = name + '-route-table'\n",
    "    rt_tbl_tag = ec2.create_tags(Resources=[rt_id], Tags=[{'Key': 'Name', 'Value': rt_tag}])\n",
    "        \n",
    "    return vpc, sg, rt \n",
    "    \n",
    "def create_subnet(boto_session, vpc, cidr, az, name, public=False):\n",
    "    ec2 = boto_session.client('ec2')\n",
    "    subnet = ec2.create_subnet(VpcId = vpc['Vpc']['VpcId'],\n",
    "                            CidrBlock = cidr,\n",
    "                            AvailabilityZone = az,\n",
    "                            TagSpecifications=[{'ResourceType': 'subnet', 'Tags': [{'Key': 'Name','Value': name}]}])\n",
    "    #auto assign ip\n",
    "    if public == True:\n",
    "        pub_sub = ec2.modify_subnet_attribute(SubnetId = subnet['Subnet']['SubnetId'],\n",
    "                                          MapPublicIpOnLaunch = {'Value': True})\n",
    "                  \n",
    "    return subnet\n",
    "\n",
    "def create_internet_gateway(boto_session, vpc, name):\n",
    "    ec2 = boto_session.client('ec2')\n",
    "    ig = ec2.create_internet_gateway(TagSpecifications=[{'ResourceType': 'internet-gateway', 'Tags': [{'Key': 'Name','Value': name}]}])\n",
    "    ig_attach = ec2.attach_internet_gateway(InternetGatewayId = ig['InternetGateway']['InternetGatewayId'],\n",
    "                                     VpcId=vpc['Vpc']['VpcId'])\n",
    "\n",
    "    return ig\n",
    "\n",
    "def create_internet_route(boto_session, route_table, cidr, gateway):\n",
    "    ec2 = boto_session.client('ec2')\n",
    "    rt = ec2.create_route(RouteTableId = route_tbl['RouteTables'][0]['RouteTableId'],\n",
    "                          DestinationCidrBlock = cidr,\n",
    "                          GatewayId = gateway['InternetGateway']['InternetGatewayId'])\n",
    "                                \n",
    "    return rt\n",
    "\n",
    "def create_db_subnet_group(boto_session, db_identifier, subnet_ids):\n",
    "    rds = boto_session.client('rds')\n",
    "    dbsubnet = rds.create_db_subnet_group(DBSubnetGroupDescription='{db} subnet group'.format(db=db_identifier),\n",
    "                                          DBSubnetGroupName='{db}-subnetgroup'.format(db=db_identifier),\n",
    "                                          SubnetIds=subnet_ids,\n",
    "                                          Tags=[{'Key': 'Name','Value': '{db}-subnetgroup'.format(db=db_identifier)}])\n",
    "    \n",
    "    return dbsubnet\n",
    "\n",
    "def create_external_ec2_security_group(boto_session, vpc, name):\n",
    "    ec2 = boto_session.client('ec2')\n",
    "    secgrp = ec2.create_security_group(GroupName = name,\n",
    "                                   Description = 'basic security group for ec2',\n",
    "                                   VpcId = vpc['Vpc']['VpcId'],\n",
    "                                   TagSpecifications = [{'ResourceType': 'security-group', \n",
    "                                                         'Tags': [{'Key': 'Name','Value': name}]}])\n",
    "    ip22 = get_public_ip() + '/32'\n",
    "    ingress = ec2.authorize_security_group_ingress(GroupId=secgrp['GroupId'],\n",
    "                             IpPermissions=[\n",
    "                                 {'IpProtocol': 'tcp',\n",
    "                                  'FromPort': 80,\n",
    "                                  'ToPort': 80,\n",
    "                                  'IpRanges': [{'CidrIp': '0.0.0.0/0'}]},\n",
    "                                 {'IpProtocol': 'tcp',\n",
    "                                  'FromPort': 443,\n",
    "                                  'ToPort': 443,\n",
    "                                  'IpRanges': [{'CidrIp': '0.0.0.0/0'}]},\n",
    "                                 {'IpProtocol': 'tcp',\n",
    "                                  'FromPort': 22,\n",
    "                                  'ToPort': 22,\n",
    "                                  'IpRanges': [{'CidrIp': ip22}]}\n",
    "                             ])\n",
    "    \n",
    "    return secgrp\n",
    "\n",
    "\n",
    "def create_key(boto_session, key_name, path):\n",
    "    ec2 = boto_session.client('ec2')\n",
    "    priv_key = ec2.create_key_pair(KeyName = key_name)\n",
    "    key_file = open(path + key_name, \"w\")\n",
    "    f = key_file.write(priv_key.key_material)\n",
    "    key_file.close()\n",
    "    \n",
    "\n",
    "def create_mysqldb_security_group(boto_session, vpc, name):\n",
    "    ec2 = boto_session.resource('ec2')\n",
    "    secgrp = ec2.create_security_group(GroupName=name,\n",
    "                                   Description='basic security group for mysql db',\n",
    "                                   VpcId=vpc.id,\n",
    "                                   TagSpecifications=[{'ResourceType': 'security-group', 'Tags': [{'Key': 'Name','Value': name}]}])\n",
    "    secgrp.authorize_ingress(GroupId=secgrp.id,\n",
    "                             IpPermissions=[\n",
    "                                 {'IpProtocol': 'tcp',\n",
    "                                  'FromPort': 3306,\n",
    "                                  'ToPort': 3306,\n",
    "                                  'IpRanges': [{'CidrIp': '0.0.0.0/0'}]}\n",
    "                             ])\n",
    "    return secgrp\n",
    "\n",
    "\n",
    "def launch_amazon_linux2(boto_session, name, subnet_id, security_groups, key_name, \n",
    "                         itype = 't2.micro', ami = 'ami-05b622b5fa0269787'):\n",
    "    ec2 = boto_session.client('ec2')\n",
    "    instance = ec2.run_instances(ImageId = ami,\n",
    "                     InstanceType = itype,\n",
    "                     MaxCount = 1,\n",
    "                     MinCount = 1,\n",
    "                     SubnetId = subnet_id,\n",
    "                     BlockDeviceMappings = [{'DeviceName': '/dev/xvda',\n",
    "                                           'VirtualName': name + '-storage',\n",
    "                                           'Ebs': {'DeleteOnTermination': True,\n",
    "                                                   'VolumeSize': 30}\n",
    "                                          }],\n",
    "                     TagSpecifications = [{'ResourceType': 'instance', \n",
    "                                         'Tags': [{'Key': 'Name','Value': name}]}],\n",
    "                     SecurityGroupIds = security_groups,\n",
    "                     KeyName = key_name)\n",
    "    waiter = ec2.get_waiter('instance_status_ok')\n",
    "    waiter.wait(InstanceIds=[instance['Instances'][0]['InstanceId']])\n",
    "                            \n",
    "    return instance"
   ]
  },
  {
   "cell_type": "code",
   "execution_count": 8,
   "metadata": {},
   "outputs": [],
   "source": [
    "bsm = boto3.Session(profile_name = 'mjn', region_name = 'us-west-2')"
   ]
  },
  {
   "cell_type": "code",
   "execution_count": 38,
   "metadata": {},
   "outputs": [],
   "source": [
    "prj_vpc, internal_sg, route_tbl = create_vpc(bsm, '213.213.48.0/24', 'tripoli-vpc')"
   ]
  },
  {
   "cell_type": "code",
   "execution_count": 39,
   "metadata": {},
   "outputs": [],
   "source": [
    "dbsubnet01 = create_subnet(bsm, prj_vpc, '213.213.48.32/27', 'us-west-2b', 'tripoli-dbsubnet-01')\n",
    "dbsubnet02 = create_subnet(bsm, prj_vpc, '213.213.48.64/27', 'us-west-2c', 'tripoli-dbsubnet-02')\n",
    "publicsubnet = create_subnet(bsm, prj_vpc, '213.213.48.96/27', 'us-west-2a', 'tripoli-publicsubnet', public = True)"
   ]
  },
  {
   "cell_type": "code",
   "execution_count": 51,
   "metadata": {},
   "outputs": [],
   "source": [
    "intgateway = create_internet_gateway(bsm, prj_vpc, 'tripoli-ig')\n",
    "int_route = create_internet_route(bsm, route_tbl, '0.0.0.0/0', intgateway)"
   ]
  },
  {
   "cell_type": "code",
   "execution_count": 85,
   "metadata": {},
   "outputs": [],
   "source": [
    "ec2secgrp = create_external_ec2_security_group(bsm, prj_vpc, 'tripoli-ec2-securitygroup')"
   ]
  },
  {
   "cell_type": "code",
   "execution_count": 108,
   "metadata": {},
   "outputs": [],
   "source": [
    "tripoli_ec2 = launch_amazon_linux2(bsm, 'tripoli-ec2', publicsubnet['Subnet']['SubnetId'], \n",
    "                                   [internal_sg['SecurityGroups'][0]['GroupId'], ec2secgrp['GroupId']],\n",
    "                                  'tripoli_ec2_key')"
   ]
  },
  {
   "cell_type": "code",
   "execution_count": 63,
   "metadata": {},
   "outputs": [],
   "source": [
    "dbsubnetgrp = create_db_subnet_group(bsm, 'tripoli-db', \n",
    "                                     [dbsubnet01['Subnet']['SubnetId'], dbsubnet02['Subnet']['SubnetId']])"
   ]
  },
  {
   "cell_type": "code",
   "execution_count": 65,
   "metadata": {},
   "outputs": [],
   "source": [
    "rds = bsm.client('rds')"
   ]
  },
  {
   "cell_type": "code",
   "execution_count": 71,
   "metadata": {},
   "outputs": [],
   "source": [
    "mysqldb_rds = rds.create_db_instance(DBName='tripoliwordpress',\n",
    "                       DBInstanceIdentifier='tripoli-db',\n",
    "                       AllocatedStorage=20,\n",
    "                       DBInstanceClass='db.t2.micro',\n",
    "                       Engine='mysql',\n",
    "                       MasterUsername='#####',\n",
    "                       MasterUserPassword='#####',\n",
    "                       StorageType='gp2',\n",
    "                       StorageEncrypted=False,\n",
    "                       AutoMinorVersionUpgrade=True,\n",
    "                       MultiAZ=False,\n",
    "                       DBSubnetGroupName=dbsubnetgrp['DBSubnetGroup']['DBSubnetGroupName'],\n",
    "                       PubliclyAccessible=False,\n",
    "                       VpcSecurityGroupIds=[internal_sg['SecurityGroups'][0]['GroupId']],\n",
    "                       Tags=[{'Key': 'Name', 'Value': 'tripoli-db'}])"
   ]
  }
 ],
 "metadata": {
  "kernelspec": {
   "display_name": "Python 3",
   "language": "python",
   "name": "python3"
  },
  "language_info": {
   "codemirror_mode": {
    "name": "ipython",
    "version": 3
   },
   "file_extension": ".py",
   "mimetype": "text/x-python",
   "name": "python",
   "nbconvert_exporter": "python",
   "pygments_lexer": "ipython3",
   "version": "3.7.9"
  }
 },
 "nbformat": 4,
 "nbformat_minor": 4
}
