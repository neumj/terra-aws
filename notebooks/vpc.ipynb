{
 "cells": [
  {
   "cell_type": "code",
   "execution_count": 1,
   "metadata": {},
   "outputs": [],
   "source": [
    "import boto3\n",
    "import re\n",
    "import urllib.request as req"
   ]
  },
  {
   "cell_type": "code",
   "execution_count": 105,
   "metadata": {},
   "outputs": [],
   "source": [
    "def get_public_ip():\n",
    "    data = str(req.urlopen('http://checkip.dyndns.com/').read())\n",
    "    \n",
    "    return re.compile(r'Address: (\\d+.\\d+.\\d+.\\d+)').search(data).group(1)\n",
    "\n",
    "\n",
    "def create_vpc(boto_session, cidr, name):\n",
    "    ec2 = boto_session.resource('ec2')\n",
    "    vpc = ec2.create_vpc(CidrBlock = cidr, \n",
    "                         TagSpecifications=[{'ResourceType': 'vpc', 'Tags': [{'Key': 'Name', 'Value': name}]}])\n",
    "    vpc.wait_until_available()\n",
    "    #default security group, open internal traffic\n",
    "    for sg in vpc.security_groups.all():\n",
    "        sg_tag = name + '-internal-securitygroup'\n",
    "        ec2.SecurityGroup(sg.id).create_tags(Tags=[{'Key': 'Name','Value': sg_tag}])\n",
    "    #default route table\n",
    "    for rt in vpc.route_tables.all():\n",
    "        rt_tag = name + '-route-table'\n",
    "        ec2.RouteTable(rt.id).create_tags(Tags=[{'Key': 'Name','Value': rt_tag}])\n",
    "        \n",
    "    return vpc, sg, rt \n",
    "    \n",
    "def create_subnet(vpc, cidr, az, name):\n",
    "    subnet = vpc.create_subnet(AvailabilityZone = az,\n",
    "                      CidrBlock = cidr,\n",
    "                      TagSpecifications=[{'ResourceType': 'subnet', 'Tags': [{'Key': 'Name','Value': name}]}])\n",
    "\n",
    "    return subnet\n",
    "\n",
    "def create_internet_gateway(boto_session, vpc, name):\n",
    "    ec2 = boto_session.resource('ec2')\n",
    "    ig = ec2.create_internet_gateway(TagSpecifications=[{'ResourceType': 'internet-gateway', 'Tags': [{'Key': 'Name','Value': name}]}])\n",
    "    vpc.attach_internet_gateway(InternetGatewayId=ig.id)\n",
    "\n",
    "    return ig\n",
    "\n",
    "def create_route_table(vpc, name):\n",
    "    rt = vpc.create_route_table(TagSpecifications=[{'ResourceType': 'route-table', 'Tags': [{'Key': 'Name','Value': name}]}])\n",
    "\n",
    "    return rt\n",
    "\n",
    "def create_db_subnet_group(boto_session, db_identifier, subnet_ids):\n",
    "    rds = boto_session.client('rds')\n",
    "    dbsubnet = rds.create_db_subnet_group(DBSubnetGroupDescription='{db} subnet group'.format(db=db_identifier),\n",
    "                                          DBSubnetGroupName='{db}-subnetgroup'.format(db=db_identifier),\n",
    "                                          SubnetIds=[dbsubnet01.id,dbsubnet02.id],\n",
    "                                          Tags=[{'Key': 'Name','Value': '{db}-subnetgroup'.format(db=db_identifier)}])\n",
    "    \n",
    "    return dbsubnet\n",
    "\n",
    "def create_external_ec2_security_group(boto_session, vpc, name):\n",
    "    ec2 = boto_session.resource('ec2')\n",
    "    secgrp = ec2.create_security_group(GroupName=name,\n",
    "                                   Description='basic security group for ec2',\n",
    "                                   VpcId=vpc.id,\n",
    "                                   TagSpecifications=[{'ResourceType': 'security-group', 'Tags': [{'Key': 'Name','Value': name}]}])\n",
    "    ip22 = get_public_ip() + '/32'\n",
    "    secgrp.authorize_ingress(GroupId=secgrp.id,\n",
    "                             IpPermissions=[\n",
    "                                 {'IpProtocol': 'tcp',\n",
    "                                  'FromPort': 80,\n",
    "                                  'ToPort': 80,\n",
    "                                  'IpRanges': [{'CidrIp': '0.0.0.0/0'}]},\n",
    "                                 {'IpProtocol': 'tcp',\n",
    "                                  'FromPort': 443,\n",
    "                                  'ToPort': 443,\n",
    "                                  'IpRanges': [{'CidrIp': '0.0.0.0/0'}]},\n",
    "                                 {'IpProtocol': 'tcp',\n",
    "                                  'FromPort': 22,\n",
    "                                  'ToPort': 22,\n",
    "                                  'IpRanges': [{'CidrIp': ip22}]}\n",
    "                             ])\n",
    "\n",
    "    return secgrp\n",
    "\n",
    "def create_mysqldb_security_group(boto_session, vpc, name):\n",
    "    ec2 = boto_session.resource('ec2')\n",
    "    secgrp = ec2.create_security_group(GroupName=name,\n",
    "                                   Description='basic security group for mysql db',\n",
    "                                   VpcId=vpc.id,\n",
    "                                   TagSpecifications=[{'ResourceType': 'security-group', 'Tags': [{'Key': 'Name','Value': name}]}])\n",
    "    secgrp.authorize_ingress(GroupId=secgrp.id,\n",
    "                             IpPermissions=[\n",
    "                                 {'IpProtocol': 'tcp',\n",
    "                                  'FromPort': 3306,\n",
    "                                  'ToPort': 3306,\n",
    "                                  'IpRanges': [{'CidrIp': '0.0.0.0/0'}]}\n",
    "                             ])\n",
    "    return secgrp"
   ]
  },
  {
   "cell_type": "code",
   "execution_count": 79,
   "metadata": {},
   "outputs": [],
   "source": [
    "asm = boto3.Session(profile_name = 'mjn', region_name = 'us-west-2')"
   ]
  },
  {
   "cell_type": "code",
   "execution_count": 89,
   "metadata": {},
   "outputs": [],
   "source": [
    "prj_vpc, internal_sg, route_tbl = create_vpc(asm, '213.213.48.0/24', 'tripoli-vpc')"
   ]
  },
  {
   "cell_type": "code",
   "execution_count": 90,
   "metadata": {},
   "outputs": [],
   "source": [
    "dbsubnet01 = create_subnet(prj_vpc, '213.213.48.32/27', 'us-west-2b', 'tripoli-dbsubnet-01')\n",
    "dbsubnet02 = create_subnet(prj_vpc, '213.213.48.64/27', 'us-west-2c', 'tripoli-dbsubnet-02')\n",
    "publicsubnet = create_subnet(prj_vpc, '213.213.48.96/27', 'us-west-2a', 'tripoli-publicsubnet')"
   ]
  },
  {
   "cell_type": "code",
   "execution_count": 91,
   "metadata": {},
   "outputs": [],
   "source": [
    "intgateway = create_internet_gateway(asm, prj_vpc, 'tripoli-ig')\n",
    "route_tbl.create_route(DestinationCidrBlock='0.0.0.0/0',GatewayId=intgateway.id)"
   ]
  },
  {
   "cell_type": "code",
   "execution_count": 97,
   "metadata": {},
   "outputs": [],
   "source": [
    "dbsubnetgrp = create_db_subnet_group(asm, 'tripoli-db', [dbsubnet01.id, dbsubnet02.id])"
   ]
  },
  {
   "cell_type": "code",
   "execution_count": 101,
   "metadata": {},
   "outputs": [],
   "source": [
    "rds = asm.client('rds')"
   ]
  },
  {
   "cell_type": "code",
   "execution_count": 104,
   "metadata": {},
   "outputs": [
    {
     "data": {
      "text/plain": [
       "{'DBInstance': {'DBInstanceIdentifier': 'tripoli-db',\n",
       "  'DBInstanceClass': 'db.t2.micro',\n",
       "  'Engine': 'mysql',\n",
       "  'DBInstanceStatus': 'creating',\n",
       "  'MasterUsername': 'tripoliadmin',\n",
       "  'DBName': 'tripoliwordpress',\n",
       "  'AllocatedStorage': 20,\n",
       "  'PreferredBackupWindow': '10:56-11:26',\n",
       "  'BackupRetentionPeriod': 1,\n",
       "  'DBSecurityGroups': [],\n",
       "  'VpcSecurityGroups': [{'VpcSecurityGroupId': 'sg-0b71f6232d2ae32ee',\n",
       "    'Status': 'active'}],\n",
       "  'DBParameterGroups': [{'DBParameterGroupName': 'default.mysql8.0',\n",
       "    'ParameterApplyStatus': 'in-sync'}],\n",
       "  'DBSubnetGroup': {'DBSubnetGroupName': 'tripoli-db-subnetgroup',\n",
       "   'DBSubnetGroupDescription': 'tripoli-db subnet group',\n",
       "   'VpcId': 'vpc-01ee38ee20c0a19a1',\n",
       "   'SubnetGroupStatus': 'Complete',\n",
       "   'Subnets': [{'SubnetIdentifier': 'subnet-07bfffa9e3ed0fcd2',\n",
       "     'SubnetAvailabilityZone': {'Name': 'us-west-2c'},\n",
       "     'SubnetOutpost': {},\n",
       "     'SubnetStatus': 'Active'},\n",
       "    {'SubnetIdentifier': 'subnet-02c0e7a73da4c028a',\n",
       "     'SubnetAvailabilityZone': {'Name': 'us-west-2b'},\n",
       "     'SubnetOutpost': {},\n",
       "     'SubnetStatus': 'Active'}]},\n",
       "  'PreferredMaintenanceWindow': 'sat:06:39-sat:07:09',\n",
       "  'PendingModifiedValues': {'MasterUserPassword': '****'},\n",
       "  'MultiAZ': False,\n",
       "  'EngineVersion': '8.0.20',\n",
       "  'AutoMinorVersionUpgrade': True,\n",
       "  'ReadReplicaDBInstanceIdentifiers': [],\n",
       "  'LicenseModel': 'general-public-license',\n",
       "  'OptionGroupMemberships': [{'OptionGroupName': 'default:mysql-8-0',\n",
       "    'Status': 'in-sync'}],\n",
       "  'PubliclyAccessible': False,\n",
       "  'StorageType': 'gp2',\n",
       "  'DbInstancePort': 0,\n",
       "  'StorageEncrypted': False,\n",
       "  'DbiResourceId': 'db-D3MWIZZGRB34D323CTLNDZ7DHQ',\n",
       "  'CACertificateIdentifier': 'rds-ca-2019',\n",
       "  'DomainMemberships': [],\n",
       "  'CopyTagsToSnapshot': False,\n",
       "  'MonitoringInterval': 0,\n",
       "  'DBInstanceArn': 'arn:aws:rds:us-west-2:329938676177:db:tripoli-db',\n",
       "  'IAMDatabaseAuthenticationEnabled': False,\n",
       "  'PerformanceInsightsEnabled': False,\n",
       "  'DeletionProtection': False,\n",
       "  'AssociatedRoles': [],\n",
       "  'TagList': [{'Key': 'Name', 'Value': 'tripoli-db'}]},\n",
       " 'ResponseMetadata': {'RequestId': '051e7222-6111-4c44-be1c-635ee4b92d4b',\n",
       "  'HTTPStatusCode': 200,\n",
       "  'HTTPHeaders': {'x-amzn-requestid': '051e7222-6111-4c44-be1c-635ee4b92d4b',\n",
       "   'content-type': 'text/xml',\n",
       "   'content-length': '3900',\n",
       "   'vary': 'accept-encoding',\n",
       "   'date': 'Wed, 17 Mar 2021 04:00:42 GMT'},\n",
       "  'RetryAttempts': 0}}"
      ]
     },
     "execution_count": 104,
     "metadata": {},
     "output_type": "execute_result"
    }
   ],
   "source": [
    "mysqldb_rds = rds.create_db_instance(DBName='tripoliwordpress',\n",
    "                       DBInstanceIdentifier='tripoli-db',\n",
    "                       AllocatedStorage=20,\n",
    "                       DBInstanceClass='db.t2.micro',\n",
    "                       Engine='mysql',\n",
    "                       MasterUsername='tripoliadmin',\n",
    "                       MasterUserPassword='Tripoli2021!',\n",
    "                       StorageType='gp2',\n",
    "                       StorageEncrypted=False,\n",
    "                       AutoMinorVersionUpgrade=True,\n",
    "                       MultiAZ=False,\n",
    "                       DBSubnetGroupName=dbsubnetgrp['DBSubnetGroup']['DBSubnetGroupName'],\n",
    "                       PubliclyAccessible=False,\n",
    "                       VpcSecurityGroupIds=[internal_sg.id],\n",
    "                       Tags=[{'Key': 'Name', 'Value': 'tripoli-db'}])"
   ]
  },
  {
   "cell_type": "code",
   "execution_count": 107,
   "metadata": {},
   "outputs": [],
   "source": [
    "ec2secgrp = create_external_ec2_security_group(asm, prj_vpc, 'tripoli-ec2-securitygroup')"
   ]
  },
  {
   "cell_type": "code",
   "execution_count": 108,
   "metadata": {},
   "outputs": [
    {
     "data": {
      "text/plain": [
       "'sg-03cbc45141e98b963'"
      ]
     },
     "execution_count": 108,
     "metadata": {},
     "output_type": "execute_result"
    }
   ],
   "source": [
    "ec2secgrp.id"
   ]
  },
  {
   "cell_type": "code",
   "execution_count": 111,
   "metadata": {},
   "outputs": [],
   "source": [
    "ec2 = asm.resource('ec2')"
   ]
  },
  {
   "cell_type": "code",
   "execution_count": 121,
   "metadata": {},
   "outputs": [],
   "source": [
    "priv_key = ec2.create_key_pair(KeyName='tripoli_ec2_key')"
   ]
  },
  {
   "cell_type": "code",
   "execution_count": 130,
   "metadata": {},
   "outputs": [],
   "source": [
    "tripoli_ec2 = ec2.create_instances(ImageId='ami-00f9f4069d04c0c6e',\n",
    "                     InstanceType='t2.micro',\n",
    "                     MaxCount=1,\n",
    "                     MinCount=1,\n",
    "                     SubnetId=publicsubnet.id,\n",
    "                     BlockDeviceMappings=[{'DeviceName': '/dev/xvda',\n",
    "                                           'VirtualName': 'tripoli-storage',\n",
    "                                           'Ebs': {'DeleteOnTermination': True,\n",
    "                                                   'VolumeSize': 30}\n",
    "                                          }],\n",
    "                     TagSpecifications=[{'ResourceType': 'instance', 'Tags': [{'Key': 'Name','Value': 'tripoli-ec2'}]}],\n",
    "                     SecurityGroupIds=[ec2secgrp.id],\n",
    "                     KeyName=priv_key.name)"
   ]
  },
  {
   "cell_type": "code",
   "execution_count": 129,
   "metadata": {},
   "outputs": [],
   "source": []
  },
  {
   "cell_type": "code",
   "execution_count": null,
   "metadata": {},
   "outputs": [],
   "source": []
  }
 ],
 "metadata": {
  "kernelspec": {
   "display_name": "Python 3",
   "language": "python",
   "name": "python3"
  },
  "language_info": {
   "codemirror_mode": {
    "name": "ipython",
    "version": 3
   },
   "file_extension": ".py",
   "mimetype": "text/x-python",
   "name": "python",
   "nbconvert_exporter": "python",
   "pygments_lexer": "ipython3",
   "version": "3.7.9"
  }
 },
 "nbformat": 4,
 "nbformat_minor": 4
}
